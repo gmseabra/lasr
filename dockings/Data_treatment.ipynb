{
 "cells": [
  {
   "cell_type": "code",
   "execution_count": 1,
   "metadata": {},
   "outputs": [],
   "source": [
    "# Imports\n",
    "import numpy as np\n",
    "import pandas as pd\n",
    "import matplotlib.pyplot as plt\n",
    "import pathlib\n",
    "import seaborn as sns"
   ]
  },
  {
   "cell_type": "code",
   "execution_count": 2,
   "metadata": {},
   "outputs": [],
   "source": [
    "# Uncomment this to make the matplotlib plots more interactive. \n",
    "# But it also makes it slower.\n",
    "\n",
    "#%matplotlib notebook"
   ]
  },
  {
   "cell_type": "code",
   "execution_count": 3,
   "metadata": {},
   "outputs": [],
   "source": [
    "pd.set_option('precision', 2)"
   ]
  },
  {
   "cell_type": "code",
   "execution_count": 4,
   "metadata": {},
   "outputs": [],
   "source": [
    "n_targets=15\n",
    "ligands=[\"1a\", \"23a\", \"23g\", \"23h\", \"1g\", \"LBA\", \"C12\"]\n",
    "variants = ['wt', 'd73n','y56f','w60f']\n",
    "n_runs=3"
   ]
  },
  {
   "cell_type": "code",
   "execution_count": 5,
   "metadata": {
    "code_folding": []
   },
   "outputs": [],
   "source": [
    "def read_docking_results(results_dir):\n",
    "    \"\"\" \n",
    "    Reads the docking results from DIR\n",
    "    \"\"\"\n",
    "    # Log filenames are like: LOG_07_1a_1_ex-128.log\n",
    "    # Targets are named from 0... n_targets -1\n",
    "\n",
    "    results = pd.DataFrame(columns=[\"Ligand\",\"Target\",\"Run 1\", \"Run 2\", \"Run 3\"])\n",
    "    record = {}\n",
    "    for ligand in ligands:\n",
    "        record[\"Variant\"] = results_dir\n",
    "        record[\"Ligand\"] = ligand\n",
    "        for target in range(n_targets):\n",
    "            record[\"Target\"] = target\n",
    "\n",
    "            # Runs are named 1 ... n_runs\n",
    "            for run in range(1,n_runs+1):\n",
    "                this_run = f\"Run {run}\"\n",
    "                logfile = pathlib.Path.cwd() / results_dir / f\"LOG_{target:02d}_{ligand}_{run}_ex-128.log\"\n",
    "                # print(f\"target:{target:02d} + Ligand:{ligand}: Run #{run} ==> file: {logfile}\")\n",
    "                with open(logfile, \"r\") as lf:\n",
    "                    found = False\n",
    "                    while not found:\n",
    "                        line = lf.readline()\n",
    "                        if line[0:4] == \"   1\":\n",
    "                            vina_score = line.split()[1]\n",
    "                            # print(\"Vina score = \", vina_score)\n",
    "                            record[this_run] = float(vina_score)\n",
    "                            found = True\n",
    "            results = results.append(record, ignore_index=True)\n",
    "    results[\"Avg\"] = results[[\"Run 1\",\"Run 2\",\"Run 3\"]].mean(axis=1)\n",
    "    return results[[\"Variant\",\"Ligand\",\"Target\",\"Run 1\", \"Run 2\", \"Run 3\",\"Avg\"]]"
   ]
  },
  {
   "cell_type": "markdown",
   "metadata": {},
   "source": [
    "# Docking Energies"
   ]
  },
  {
   "cell_type": "markdown",
   "metadata": {},
   "source": [
    "## Wild Type LasR"
   ]
  },
  {
   "cell_type": "code",
   "execution_count": 54,
   "metadata": {},
   "outputs": [
    {
     "data": {
      "text/html": [
       "<div>\n",
       "<style scoped>\n",
       "    .dataframe tbody tr th:only-of-type {\n",
       "        vertical-align: middle;\n",
       "    }\n",
       "\n",
       "    .dataframe tbody tr th {\n",
       "        vertical-align: top;\n",
       "    }\n",
       "\n",
       "    .dataframe thead th {\n",
       "        text-align: right;\n",
       "    }\n",
       "</style>\n",
       "<table border=\"1\" class=\"dataframe\">\n",
       "  <thead>\n",
       "    <tr style=\"text-align: right;\">\n",
       "      <th></th>\n",
       "      <th>Variant</th>\n",
       "      <th>Ligand</th>\n",
       "      <th>Target</th>\n",
       "      <th>Run 1</th>\n",
       "      <th>Run 2</th>\n",
       "      <th>Run 3</th>\n",
       "      <th>Avg</th>\n",
       "    </tr>\n",
       "  </thead>\n",
       "  <tbody>\n",
       "    <tr>\n",
       "      <th>8</th>\n",
       "      <td>wt</td>\n",
       "      <td>1a</td>\n",
       "      <td>8</td>\n",
       "      <td>-9.7</td>\n",
       "      <td>-9.6</td>\n",
       "      <td>-9.6</td>\n",
       "      <td>-9.63</td>\n",
       "    </tr>\n",
       "    <tr>\n",
       "      <th>70</th>\n",
       "      <td>wt</td>\n",
       "      <td>1g</td>\n",
       "      <td>10</td>\n",
       "      <td>-9.3</td>\n",
       "      <td>-9.0</td>\n",
       "      <td>-9.1</td>\n",
       "      <td>-9.13</td>\n",
       "    </tr>\n",
       "    <tr>\n",
       "      <th>27</th>\n",
       "      <td>wt</td>\n",
       "      <td>23a</td>\n",
       "      <td>12</td>\n",
       "      <td>-9.2</td>\n",
       "      <td>-9.1</td>\n",
       "      <td>-9.2</td>\n",
       "      <td>-9.17</td>\n",
       "    </tr>\n",
       "    <tr>\n",
       "      <th>42</th>\n",
       "      <td>wt</td>\n",
       "      <td>23g</td>\n",
       "      <td>12</td>\n",
       "      <td>-9.3</td>\n",
       "      <td>-9.0</td>\n",
       "      <td>-9.0</td>\n",
       "      <td>-9.10</td>\n",
       "    </tr>\n",
       "    <tr>\n",
       "      <th>53</th>\n",
       "      <td>wt</td>\n",
       "      <td>23h</td>\n",
       "      <td>8</td>\n",
       "      <td>-9.0</td>\n",
       "      <td>-8.9</td>\n",
       "      <td>-9.0</td>\n",
       "      <td>-8.97</td>\n",
       "    </tr>\n",
       "    <tr>\n",
       "      <th>102</th>\n",
       "      <td>wt</td>\n",
       "      <td>C12</td>\n",
       "      <td>12</td>\n",
       "      <td>-9.0</td>\n",
       "      <td>-8.9</td>\n",
       "      <td>-8.9</td>\n",
       "      <td>-8.93</td>\n",
       "    </tr>\n",
       "    <tr>\n",
       "      <th>77</th>\n",
       "      <td>wt</td>\n",
       "      <td>LBA</td>\n",
       "      <td>2</td>\n",
       "      <td>-7.3</td>\n",
       "      <td>-7.4</td>\n",
       "      <td>-7.3</td>\n",
       "      <td>-7.33</td>\n",
       "    </tr>\n",
       "  </tbody>\n",
       "</table>\n",
       "</div>"
      ],
      "text/plain": [
       "    Variant Ligand Target  Run 1  Run 2  Run 3   Avg\n",
       "8        wt     1a      8   -9.7   -9.6   -9.6 -9.63\n",
       "70       wt     1g     10   -9.3   -9.0   -9.1 -9.13\n",
       "27       wt    23a     12   -9.2   -9.1   -9.2 -9.17\n",
       "42       wt    23g     12   -9.3   -9.0   -9.0 -9.10\n",
       "53       wt    23h      8   -9.0   -8.9   -9.0 -8.97\n",
       "102      wt    C12     12   -9.0   -8.9   -8.9 -8.93\n",
       "77       wt    LBA      2   -7.3   -7.4   -7.3 -7.33"
      ]
     },
     "execution_count": 54,
     "metadata": {},
     "output_type": "execute_result"
    }
   ],
   "source": [
    "wt = read_docking_results('wt')\n",
    "\n",
    "best_wt = wt.loc[wt.groupby([\"Ligand\"])[\"Avg\"].idxmin()]\n",
    "best_wt"
   ]
  },
  {
   "cell_type": "code",
   "execution_count": 58,
   "metadata": {},
   "outputs": [
    {
     "data": {
      "text/html": [
       "<div>\n",
       "<style scoped>\n",
       "    .dataframe tbody tr th:only-of-type {\n",
       "        vertical-align: middle;\n",
       "    }\n",
       "\n",
       "    .dataframe tbody tr th {\n",
       "        vertical-align: top;\n",
       "    }\n",
       "\n",
       "    .dataframe thead th {\n",
       "        text-align: right;\n",
       "    }\n",
       "</style>\n",
       "<table border=\"1\" class=\"dataframe\">\n",
       "  <thead>\n",
       "    <tr style=\"text-align: right;\">\n",
       "      <th></th>\n",
       "      <th>Variant</th>\n",
       "      <th>Ligand</th>\n",
       "      <th>Target</th>\n",
       "      <th>Run 1</th>\n",
       "      <th>Run 2</th>\n",
       "      <th>Run 3</th>\n",
       "      <th>Avg</th>\n",
       "    </tr>\n",
       "  </thead>\n",
       "  <tbody>\n",
       "    <tr>\n",
       "      <th>12</th>\n",
       "      <td>wt</td>\n",
       "      <td>1a</td>\n",
       "      <td>12</td>\n",
       "      <td>-9.6</td>\n",
       "      <td>-9.4</td>\n",
       "      <td>-9.6</td>\n",
       "      <td>-9.53</td>\n",
       "    </tr>\n",
       "    <tr>\n",
       "      <th>27</th>\n",
       "      <td>wt</td>\n",
       "      <td>23a</td>\n",
       "      <td>12</td>\n",
       "      <td>-9.2</td>\n",
       "      <td>-9.1</td>\n",
       "      <td>-9.2</td>\n",
       "      <td>-9.17</td>\n",
       "    </tr>\n",
       "    <tr>\n",
       "      <th>42</th>\n",
       "      <td>wt</td>\n",
       "      <td>23g</td>\n",
       "      <td>12</td>\n",
       "      <td>-9.3</td>\n",
       "      <td>-9.0</td>\n",
       "      <td>-9.0</td>\n",
       "      <td>-9.10</td>\n",
       "    </tr>\n",
       "    <tr>\n",
       "      <th>57</th>\n",
       "      <td>wt</td>\n",
       "      <td>23h</td>\n",
       "      <td>12</td>\n",
       "      <td>-8.9</td>\n",
       "      <td>-9.0</td>\n",
       "      <td>-8.9</td>\n",
       "      <td>-8.93</td>\n",
       "    </tr>\n",
       "    <tr>\n",
       "      <th>72</th>\n",
       "      <td>wt</td>\n",
       "      <td>1g</td>\n",
       "      <td>12</td>\n",
       "      <td>-8.7</td>\n",
       "      <td>-8.8</td>\n",
       "      <td>-8.7</td>\n",
       "      <td>-8.73</td>\n",
       "    </tr>\n",
       "    <tr>\n",
       "      <th>87</th>\n",
       "      <td>wt</td>\n",
       "      <td>LBA</td>\n",
       "      <td>12</td>\n",
       "      <td>-7.2</td>\n",
       "      <td>-7.2</td>\n",
       "      <td>-7.2</td>\n",
       "      <td>-7.20</td>\n",
       "    </tr>\n",
       "    <tr>\n",
       "      <th>102</th>\n",
       "      <td>wt</td>\n",
       "      <td>C12</td>\n",
       "      <td>12</td>\n",
       "      <td>-9.0</td>\n",
       "      <td>-8.9</td>\n",
       "      <td>-8.9</td>\n",
       "      <td>-8.93</td>\n",
       "    </tr>\n",
       "  </tbody>\n",
       "</table>\n",
       "</div>"
      ],
      "text/plain": [
       "    Variant Ligand Target  Run 1  Run 2  Run 3   Avg\n",
       "12       wt     1a     12   -9.6   -9.4   -9.6 -9.53\n",
       "27       wt    23a     12   -9.2   -9.1   -9.2 -9.17\n",
       "42       wt    23g     12   -9.3   -9.0   -9.0 -9.10\n",
       "57       wt    23h     12   -8.9   -9.0   -8.9 -8.93\n",
       "72       wt     1g     12   -8.7   -8.8   -8.7 -8.73\n",
       "87       wt    LBA     12   -7.2   -7.2   -7.2 -7.20\n",
       "102      wt    C12     12   -9.0   -8.9   -8.9 -8.93"
      ]
     },
     "execution_count": 58,
     "metadata": {},
     "output_type": "execute_result"
    }
   ],
   "source": [
    "wt[ wt['Target'] == 12 ]"
   ]
  },
  {
   "cell_type": "code",
   "execution_count": 59,
   "metadata": {},
   "outputs": [
    {
     "data": {
      "text/html": [
       "<div>\n",
       "<style scoped>\n",
       "    .dataframe tbody tr th:only-of-type {\n",
       "        vertical-align: middle;\n",
       "    }\n",
       "\n",
       "    .dataframe tbody tr th {\n",
       "        vertical-align: top;\n",
       "    }\n",
       "\n",
       "    .dataframe thead th {\n",
       "        text-align: right;\n",
       "    }\n",
       "</style>\n",
       "<table border=\"1\" class=\"dataframe\">\n",
       "  <thead>\n",
       "    <tr style=\"text-align: right;\">\n",
       "      <th></th>\n",
       "      <th>Variant</th>\n",
       "      <th>Ligand</th>\n",
       "      <th>Target</th>\n",
       "      <th>Run 1</th>\n",
       "      <th>Run 2</th>\n",
       "      <th>Run 3</th>\n",
       "      <th>Avg</th>\n",
       "    </tr>\n",
       "  </thead>\n",
       "  <tbody>\n",
       "    <tr>\n",
       "      <th>8</th>\n",
       "      <td>wt</td>\n",
       "      <td>1a</td>\n",
       "      <td>8</td>\n",
       "      <td>-9.7</td>\n",
       "      <td>-9.6</td>\n",
       "      <td>-9.6</td>\n",
       "      <td>-9.63</td>\n",
       "    </tr>\n",
       "    <tr>\n",
       "      <th>23</th>\n",
       "      <td>wt</td>\n",
       "      <td>23a</td>\n",
       "      <td>8</td>\n",
       "      <td>-8.9</td>\n",
       "      <td>-8.8</td>\n",
       "      <td>-8.9</td>\n",
       "      <td>-8.87</td>\n",
       "    </tr>\n",
       "    <tr>\n",
       "      <th>38</th>\n",
       "      <td>wt</td>\n",
       "      <td>23g</td>\n",
       "      <td>8</td>\n",
       "      <td>-9.0</td>\n",
       "      <td>-8.8</td>\n",
       "      <td>-8.9</td>\n",
       "      <td>-8.90</td>\n",
       "    </tr>\n",
       "    <tr>\n",
       "      <th>53</th>\n",
       "      <td>wt</td>\n",
       "      <td>23h</td>\n",
       "      <td>8</td>\n",
       "      <td>-9.0</td>\n",
       "      <td>-8.9</td>\n",
       "      <td>-9.0</td>\n",
       "      <td>-8.97</td>\n",
       "    </tr>\n",
       "    <tr>\n",
       "      <th>68</th>\n",
       "      <td>wt</td>\n",
       "      <td>1g</td>\n",
       "      <td>8</td>\n",
       "      <td>-8.5</td>\n",
       "      <td>-8.8</td>\n",
       "      <td>-8.6</td>\n",
       "      <td>-8.63</td>\n",
       "    </tr>\n",
       "    <tr>\n",
       "      <th>83</th>\n",
       "      <td>wt</td>\n",
       "      <td>LBA</td>\n",
       "      <td>8</td>\n",
       "      <td>-7.0</td>\n",
       "      <td>-7.0</td>\n",
       "      <td>-7.0</td>\n",
       "      <td>-7.00</td>\n",
       "    </tr>\n",
       "    <tr>\n",
       "      <th>98</th>\n",
       "      <td>wt</td>\n",
       "      <td>C12</td>\n",
       "      <td>8</td>\n",
       "      <td>-8.1</td>\n",
       "      <td>-8.2</td>\n",
       "      <td>-8.2</td>\n",
       "      <td>-8.17</td>\n",
       "    </tr>\n",
       "  </tbody>\n",
       "</table>\n",
       "</div>"
      ],
      "text/plain": [
       "   Variant Ligand Target  Run 1  Run 2  Run 3   Avg\n",
       "8       wt     1a      8   -9.7   -9.6   -9.6 -9.63\n",
       "23      wt    23a      8   -8.9   -8.8   -8.9 -8.87\n",
       "38      wt    23g      8   -9.0   -8.8   -8.9 -8.90\n",
       "53      wt    23h      8   -9.0   -8.9   -9.0 -8.97\n",
       "68      wt     1g      8   -8.5   -8.8   -8.6 -8.63\n",
       "83      wt    LBA      8   -7.0   -7.0   -7.0 -7.00\n",
       "98      wt    C12      8   -8.1   -8.2   -8.2 -8.17"
      ]
     },
     "execution_count": 59,
     "metadata": {},
     "output_type": "execute_result"
    }
   ],
   "source": [
    "wt[ wt['Target'] == 8 ]"
   ]
  },
  {
   "cell_type": "code",
   "execution_count": 7,
   "metadata": {},
   "outputs": [
    {
     "data": {
      "text/html": [
       "<div>\n",
       "<style scoped>\n",
       "    .dataframe tbody tr th:only-of-type {\n",
       "        vertical-align: middle;\n",
       "    }\n",
       "\n",
       "    .dataframe tbody tr th {\n",
       "        vertical-align: top;\n",
       "    }\n",
       "\n",
       "    .dataframe thead th {\n",
       "        text-align: right;\n",
       "    }\n",
       "</style>\n",
       "<table border=\"1\" class=\"dataframe\">\n",
       "  <thead>\n",
       "    <tr style=\"text-align: right;\">\n",
       "      <th></th>\n",
       "      <th>Variant</th>\n",
       "      <th>Ligand</th>\n",
       "      <th>Target</th>\n",
       "      <th>Run 1</th>\n",
       "      <th>Run 2</th>\n",
       "      <th>Run 3</th>\n",
       "      <th>Avg</th>\n",
       "    </tr>\n",
       "  </thead>\n",
       "  <tbody>\n",
       "    <tr>\n",
       "      <th>0</th>\n",
       "      <td>wt</td>\n",
       "      <td>1a</td>\n",
       "      <td>0</td>\n",
       "      <td>-6.7</td>\n",
       "      <td>-6.8</td>\n",
       "      <td>-6.5</td>\n",
       "      <td>-6.67</td>\n",
       "    </tr>\n",
       "    <tr>\n",
       "      <th>60</th>\n",
       "      <td>wt</td>\n",
       "      <td>1g</td>\n",
       "      <td>0</td>\n",
       "      <td>-7.6</td>\n",
       "      <td>-7.6</td>\n",
       "      <td>-7.6</td>\n",
       "      <td>-7.60</td>\n",
       "    </tr>\n",
       "    <tr>\n",
       "      <th>15</th>\n",
       "      <td>wt</td>\n",
       "      <td>23a</td>\n",
       "      <td>0</td>\n",
       "      <td>-6.2</td>\n",
       "      <td>-6.1</td>\n",
       "      <td>-6.2</td>\n",
       "      <td>-6.17</td>\n",
       "    </tr>\n",
       "    <tr>\n",
       "      <th>30</th>\n",
       "      <td>wt</td>\n",
       "      <td>23g</td>\n",
       "      <td>0</td>\n",
       "      <td>-6.3</td>\n",
       "      <td>-5.9</td>\n",
       "      <td>-6.0</td>\n",
       "      <td>-6.07</td>\n",
       "    </tr>\n",
       "    <tr>\n",
       "      <th>45</th>\n",
       "      <td>wt</td>\n",
       "      <td>23h</td>\n",
       "      <td>0</td>\n",
       "      <td>-5.8</td>\n",
       "      <td>-5.9</td>\n",
       "      <td>-5.8</td>\n",
       "      <td>-5.83</td>\n",
       "    </tr>\n",
       "    <tr>\n",
       "      <th>90</th>\n",
       "      <td>wt</td>\n",
       "      <td>C12</td>\n",
       "      <td>0</td>\n",
       "      <td>-7.3</td>\n",
       "      <td>-7.2</td>\n",
       "      <td>-7.3</td>\n",
       "      <td>-7.27</td>\n",
       "    </tr>\n",
       "    <tr>\n",
       "      <th>80</th>\n",
       "      <td>wt</td>\n",
       "      <td>LBA</td>\n",
       "      <td>5</td>\n",
       "      <td>-6.6</td>\n",
       "      <td>-6.8</td>\n",
       "      <td>-6.8</td>\n",
       "      <td>-6.73</td>\n",
       "    </tr>\n",
       "  </tbody>\n",
       "</table>\n",
       "</div>"
      ],
      "text/plain": [
       "   Variant Ligand Target  Run 1  Run 2  Run 3   Avg\n",
       "0       wt     1a      0   -6.7   -6.8   -6.5 -6.67\n",
       "60      wt     1g      0   -7.6   -7.6   -7.6 -7.60\n",
       "15      wt    23a      0   -6.2   -6.1   -6.2 -6.17\n",
       "30      wt    23g      0   -6.3   -5.9   -6.0 -6.07\n",
       "45      wt    23h      0   -5.8   -5.9   -5.8 -5.83\n",
       "90      wt    C12      0   -7.3   -7.2   -7.3 -7.27\n",
       "80      wt    LBA      5   -6.6   -6.8   -6.8 -6.73"
      ]
     },
     "execution_count": 7,
     "metadata": {},
     "output_type": "execute_result"
    }
   ],
   "source": [
    "# The worst values\n",
    "wt.loc[wt.groupby([\"Ligand\"])[\"Avg\"].idxmax()]"
   ]
  },
  {
   "cell_type": "code",
   "execution_count": 8,
   "metadata": {},
   "outputs": [
    {
     "data": {
      "text/plain": [
       "<matplotlib.axes._subplots.AxesSubplot at 0x7ff52964d650>"
      ]
     },
     "execution_count": 8,
     "metadata": {},
     "output_type": "execute_result"
    },
    {
     "data": {
      "image/png": "[encoded data removed]",
      "text/plain": [
       "<Figure size 432x288 with 1 Axes>"
      ]
     },
     "metadata": {
      "needs_background": "light"
     },
     "output_type": "display_data"
    }
   ],
   "source": [
    "best_wt.plot.bar(x=\"Ligand\", y=\"Avg\")"
   ]
  },
  {
   "cell_type": "code",
   "execution_count": 9,
   "metadata": {},
   "outputs": [],
   "source": [
    "best_wt.to_csv(\"best_results_wt.csv\")"
   ]
  },
  {
   "cell_type": "code",
   "execution_count": 10,
   "metadata": {},
   "outputs": [],
   "source": [
    "# wt.columns\n",
    "# wt.style.format({'Avg': '{:.2f}'})\n",
    "# wt.groupby([\"Ligand\"]).plot.scatter(x=[\"Target\"], y=[\"Avg\"])"
   ]
  },
  {
   "cell_type": "markdown",
   "metadata": {
    "heading_collapsed": true
   },
   "source": [
    "## D73N Mutant"
   ]
  },
  {
   "cell_type": "code",
   "execution_count": 11,
   "metadata": {
    "hidden": true
   },
   "outputs": [],
   "source": [
    "d73n = read_docking_results('d73n')"
   ]
  },
  {
   "cell_type": "code",
   "execution_count": 12,
   "metadata": {
    "hidden": true
   },
   "outputs": [
    {
     "data": {
      "text/html": [
       "<div>\n",
       "<style scoped>\n",
       "    .dataframe tbody tr th:only-of-type {\n",
       "        vertical-align: middle;\n",
       "    }\n",
       "\n",
       "    .dataframe tbody tr th {\n",
       "        vertical-align: top;\n",
       "    }\n",
       "\n",
       "    .dataframe thead th {\n",
       "        text-align: right;\n",
       "    }\n",
       "</style>\n",
       "<table border=\"1\" class=\"dataframe\">\n",
       "  <thead>\n",
       "    <tr style=\"text-align: right;\">\n",
       "      <th></th>\n",
       "      <th>Variant</th>\n",
       "      <th>Ligand</th>\n",
       "      <th>Target</th>\n",
       "      <th>Run 1</th>\n",
       "      <th>Run 2</th>\n",
       "      <th>Run 3</th>\n",
       "      <th>Avg</th>\n",
       "    </tr>\n",
       "  </thead>\n",
       "  <tbody>\n",
       "    <tr>\n",
       "      <th>4</th>\n",
       "      <td>d73n</td>\n",
       "      <td>1a</td>\n",
       "      <td>4</td>\n",
       "      <td>-9.9</td>\n",
       "      <td>-9.4</td>\n",
       "      <td>-9.8</td>\n",
       "      <td>-9.70</td>\n",
       "    </tr>\n",
       "    <tr>\n",
       "      <th>68</th>\n",
       "      <td>d73n</td>\n",
       "      <td>1g</td>\n",
       "      <td>8</td>\n",
       "      <td>-9.0</td>\n",
       "      <td>-9.0</td>\n",
       "      <td>-9.0</td>\n",
       "      <td>-9.00</td>\n",
       "    </tr>\n",
       "    <tr>\n",
       "      <th>19</th>\n",
       "      <td>d73n</td>\n",
       "      <td>23a</td>\n",
       "      <td>4</td>\n",
       "      <td>-9.3</td>\n",
       "      <td>-9.3</td>\n",
       "      <td>-9.4</td>\n",
       "      <td>-9.33</td>\n",
       "    </tr>\n",
       "    <tr>\n",
       "      <th>34</th>\n",
       "      <td>d73n</td>\n",
       "      <td>23g</td>\n",
       "      <td>4</td>\n",
       "      <td>-9.2</td>\n",
       "      <td>-9.3</td>\n",
       "      <td>-9.3</td>\n",
       "      <td>-9.27</td>\n",
       "    </tr>\n",
       "    <tr>\n",
       "      <th>49</th>\n",
       "      <td>d73n</td>\n",
       "      <td>23h</td>\n",
       "      <td>4</td>\n",
       "      <td>-8.9</td>\n",
       "      <td>-9.1</td>\n",
       "      <td>-9.0</td>\n",
       "      <td>-9.00</td>\n",
       "    </tr>\n",
       "    <tr>\n",
       "      <th>94</th>\n",
       "      <td>d73n</td>\n",
       "      <td>C12</td>\n",
       "      <td>4</td>\n",
       "      <td>-8.8</td>\n",
       "      <td>-8.7</td>\n",
       "      <td>-8.9</td>\n",
       "      <td>-8.80</td>\n",
       "    </tr>\n",
       "    <tr>\n",
       "      <th>82</th>\n",
       "      <td>d73n</td>\n",
       "      <td>LBA</td>\n",
       "      <td>7</td>\n",
       "      <td>-7.2</td>\n",
       "      <td>-7.2</td>\n",
       "      <td>-7.3</td>\n",
       "      <td>-7.23</td>\n",
       "    </tr>\n",
       "  </tbody>\n",
       "</table>\n",
       "</div>"
      ],
      "text/plain": [
       "   Variant Ligand Target  Run 1  Run 2  Run 3   Avg\n",
       "4     d73n     1a      4   -9.9   -9.4   -9.8 -9.70\n",
       "68    d73n     1g      8   -9.0   -9.0   -9.0 -9.00\n",
       "19    d73n    23a      4   -9.3   -9.3   -9.4 -9.33\n",
       "34    d73n    23g      4   -9.2   -9.3   -9.3 -9.27\n",
       "49    d73n    23h      4   -8.9   -9.1   -9.0 -9.00\n",
       "94    d73n    C12      4   -8.8   -8.7   -8.9 -8.80\n",
       "82    d73n    LBA      7   -7.2   -7.2   -7.3 -7.23"
      ]
     },
     "execution_count": 12,
     "metadata": {},
     "output_type": "execute_result"
    }
   ],
   "source": [
    "best_d73n = d73n.loc[d73n.groupby([\"Ligand\"])[\"Avg\"].idxmin()]\n",
    "best_d73n"
   ]
  },
  {
   "cell_type": "code",
   "execution_count": 13,
   "metadata": {
    "hidden": true
   },
   "outputs": [
    {
     "data": {
      "text/html": [
       "<div>\n",
       "<style scoped>\n",
       "    .dataframe tbody tr th:only-of-type {\n",
       "        vertical-align: middle;\n",
       "    }\n",
       "\n",
       "    .dataframe tbody tr th {\n",
       "        vertical-align: top;\n",
       "    }\n",
       "\n",
       "    .dataframe thead th {\n",
       "        text-align: right;\n",
       "    }\n",
       "</style>\n",
       "<table border=\"1\" class=\"dataframe\">\n",
       "  <thead>\n",
       "    <tr style=\"text-align: right;\">\n",
       "      <th></th>\n",
       "      <th>Variant</th>\n",
       "      <th>Ligand</th>\n",
       "      <th>Target</th>\n",
       "      <th>Run 1</th>\n",
       "      <th>Run 2</th>\n",
       "      <th>Run 3</th>\n",
       "      <th>Avg</th>\n",
       "    </tr>\n",
       "  </thead>\n",
       "  <tbody>\n",
       "    <tr>\n",
       "      <th>13</th>\n",
       "      <td>d73n</td>\n",
       "      <td>1a</td>\n",
       "      <td>13</td>\n",
       "      <td>-2.3</td>\n",
       "      <td>-2.1</td>\n",
       "      <td>-1.0</td>\n",
       "      <td>-1.80</td>\n",
       "    </tr>\n",
       "    <tr>\n",
       "      <th>65</th>\n",
       "      <td>d73n</td>\n",
       "      <td>1g</td>\n",
       "      <td>5</td>\n",
       "      <td>-4.4</td>\n",
       "      <td>-3.7</td>\n",
       "      <td>-4.5</td>\n",
       "      <td>-4.20</td>\n",
       "    </tr>\n",
       "    <tr>\n",
       "      <th>28</th>\n",
       "      <td>d73n</td>\n",
       "      <td>23a</td>\n",
       "      <td>13</td>\n",
       "      <td>-1.1</td>\n",
       "      <td>-0.7</td>\n",
       "      <td>-0.7</td>\n",
       "      <td>-0.83</td>\n",
       "    </tr>\n",
       "    <tr>\n",
       "      <th>43</th>\n",
       "      <td>d73n</td>\n",
       "      <td>23g</td>\n",
       "      <td>13</td>\n",
       "      <td>-0.8</td>\n",
       "      <td>-1.5</td>\n",
       "      <td>-0.5</td>\n",
       "      <td>-0.93</td>\n",
       "    </tr>\n",
       "    <tr>\n",
       "      <th>58</th>\n",
       "      <td>d73n</td>\n",
       "      <td>23h</td>\n",
       "      <td>13</td>\n",
       "      <td>-1.8</td>\n",
       "      <td>-0.8</td>\n",
       "      <td>-2.8</td>\n",
       "      <td>-1.80</td>\n",
       "    </tr>\n",
       "    <tr>\n",
       "      <th>95</th>\n",
       "      <td>d73n</td>\n",
       "      <td>C12</td>\n",
       "      <td>5</td>\n",
       "      <td>-4.4</td>\n",
       "      <td>-4.4</td>\n",
       "      <td>-4.4</td>\n",
       "      <td>-4.40</td>\n",
       "    </tr>\n",
       "    <tr>\n",
       "      <th>80</th>\n",
       "      <td>d73n</td>\n",
       "      <td>LBA</td>\n",
       "      <td>5</td>\n",
       "      <td>-4.3</td>\n",
       "      <td>-4.3</td>\n",
       "      <td>-4.3</td>\n",
       "      <td>-4.30</td>\n",
       "    </tr>\n",
       "  </tbody>\n",
       "</table>\n",
       "</div>"
      ],
      "text/plain": [
       "   Variant Ligand Target  Run 1  Run 2  Run 3   Avg\n",
       "13    d73n     1a     13   -2.3   -2.1   -1.0 -1.80\n",
       "65    d73n     1g      5   -4.4   -3.7   -4.5 -4.20\n",
       "28    d73n    23a     13   -1.1   -0.7   -0.7 -0.83\n",
       "43    d73n    23g     13   -0.8   -1.5   -0.5 -0.93\n",
       "58    d73n    23h     13   -1.8   -0.8   -2.8 -1.80\n",
       "95    d73n    C12      5   -4.4   -4.4   -4.4 -4.40\n",
       "80    d73n    LBA      5   -4.3   -4.3   -4.3 -4.30"
      ]
     },
     "execution_count": 13,
     "metadata": {},
     "output_type": "execute_result"
    }
   ],
   "source": [
    "# The worst values\n",
    "d73n.loc[d73n.groupby([\"Ligand\"])[\"Avg\"].idxmax()]"
   ]
  },
  {
   "cell_type": "code",
   "execution_count": 14,
   "metadata": {
    "hidden": true
   },
   "outputs": [
    {
     "data": {
      "text/plain": [
       "<matplotlib.axes._subplots.AxesSubplot at 0x7ff528d535d0>"
      ]
     },
     "execution_count": 14,
     "metadata": {},
     "output_type": "execute_result"
    },
    {
     "data": {
      "image/png": "[encoded data removed]",
      "text/plain": [
       "<Figure size 432x288 with 1 Axes>"
      ]
     },
     "metadata": {
      "needs_background": "light"
     },
     "output_type": "display_data"
    }
   ],
   "source": [
    "best_d73n.plot.bar(x=\"Ligand\", y=\"Avg\")"
   ]
  },
  {
   "cell_type": "code",
   "execution_count": 15,
   "metadata": {
    "hidden": true
   },
   "outputs": [],
   "source": [
    "best_d73n.to_csv(\"best_results_d73n.csv\")"
   ]
  },
  {
   "cell_type": "markdown",
   "metadata": {
    "heading_collapsed": true
   },
   "source": [
    "## Y56F Mutant"
   ]
  },
  {
   "cell_type": "code",
   "execution_count": 16,
   "metadata": {
    "hidden": true
   },
   "outputs": [],
   "source": [
    "y56f = read_docking_results('y56f')"
   ]
  },
  {
   "cell_type": "code",
   "execution_count": 17,
   "metadata": {
    "hidden": true
   },
   "outputs": [
    {
     "data": {
      "text/html": [
       "<div>\n",
       "<style scoped>\n",
       "    .dataframe tbody tr th:only-of-type {\n",
       "        vertical-align: middle;\n",
       "    }\n",
       "\n",
       "    .dataframe tbody tr th {\n",
       "        vertical-align: top;\n",
       "    }\n",
       "\n",
       "    .dataframe thead th {\n",
       "        text-align: right;\n",
       "    }\n",
       "</style>\n",
       "<table border=\"1\" class=\"dataframe\">\n",
       "  <thead>\n",
       "    <tr style=\"text-align: right;\">\n",
       "      <th></th>\n",
       "      <th>Variant</th>\n",
       "      <th>Ligand</th>\n",
       "      <th>Target</th>\n",
       "      <th>Run 1</th>\n",
       "      <th>Run 2</th>\n",
       "      <th>Run 3</th>\n",
       "      <th>Avg</th>\n",
       "    </tr>\n",
       "  </thead>\n",
       "  <tbody>\n",
       "    <tr>\n",
       "      <th>8</th>\n",
       "      <td>y56f</td>\n",
       "      <td>1a</td>\n",
       "      <td>8</td>\n",
       "      <td>-9.3</td>\n",
       "      <td>-9.3</td>\n",
       "      <td>-9.8</td>\n",
       "      <td>-9.47</td>\n",
       "    </tr>\n",
       "    <tr>\n",
       "      <th>68</th>\n",
       "      <td>y56f</td>\n",
       "      <td>1g</td>\n",
       "      <td>8</td>\n",
       "      <td>-9.4</td>\n",
       "      <td>-9.2</td>\n",
       "      <td>-9.4</td>\n",
       "      <td>-9.33</td>\n",
       "    </tr>\n",
       "    <tr>\n",
       "      <th>28</th>\n",
       "      <td>y56f</td>\n",
       "      <td>23a</td>\n",
       "      <td>13</td>\n",
       "      <td>-8.9</td>\n",
       "      <td>-8.7</td>\n",
       "      <td>-8.7</td>\n",
       "      <td>-8.77</td>\n",
       "    </tr>\n",
       "    <tr>\n",
       "      <th>41</th>\n",
       "      <td>y56f</td>\n",
       "      <td>23g</td>\n",
       "      <td>11</td>\n",
       "      <td>-9.2</td>\n",
       "      <td>-8.9</td>\n",
       "      <td>-9.1</td>\n",
       "      <td>-9.07</td>\n",
       "    </tr>\n",
       "    <tr>\n",
       "      <th>56</th>\n",
       "      <td>y56f</td>\n",
       "      <td>23h</td>\n",
       "      <td>11</td>\n",
       "      <td>-9.0</td>\n",
       "      <td>-8.8</td>\n",
       "      <td>-9.1</td>\n",
       "      <td>-8.97</td>\n",
       "    </tr>\n",
       "    <tr>\n",
       "      <th>92</th>\n",
       "      <td>y56f</td>\n",
       "      <td>C12</td>\n",
       "      <td>2</td>\n",
       "      <td>-8.6</td>\n",
       "      <td>-8.5</td>\n",
       "      <td>-8.4</td>\n",
       "      <td>-8.50</td>\n",
       "    </tr>\n",
       "    <tr>\n",
       "      <th>83</th>\n",
       "      <td>y56f</td>\n",
       "      <td>LBA</td>\n",
       "      <td>8</td>\n",
       "      <td>-7.6</td>\n",
       "      <td>-7.6</td>\n",
       "      <td>-7.6</td>\n",
       "      <td>-7.60</td>\n",
       "    </tr>\n",
       "  </tbody>\n",
       "</table>\n",
       "</div>"
      ],
      "text/plain": [
       "   Variant Ligand Target  Run 1  Run 2  Run 3   Avg\n",
       "8     y56f     1a      8   -9.3   -9.3   -9.8 -9.47\n",
       "68    y56f     1g      8   -9.4   -9.2   -9.4 -9.33\n",
       "28    y56f    23a     13   -8.9   -8.7   -8.7 -8.77\n",
       "41    y56f    23g     11   -9.2   -8.9   -9.1 -9.07\n",
       "56    y56f    23h     11   -9.0   -8.8   -9.1 -8.97\n",
       "92    y56f    C12      2   -8.6   -8.5   -8.4 -8.50\n",
       "83    y56f    LBA      8   -7.6   -7.6   -7.6 -7.60"
      ]
     },
     "execution_count": 17,
     "metadata": {},
     "output_type": "execute_result"
    }
   ],
   "source": [
    "best_y56f = y56f.loc[y56f.groupby([\"Ligand\"])[\"Avg\"].idxmin()]\n",
    "best_y56f"
   ]
  },
  {
   "cell_type": "code",
   "execution_count": 18,
   "metadata": {
    "hidden": true
   },
   "outputs": [],
   "source": [
    "best_y56f.to_csv(\"best_results_y56f.csv\")"
   ]
  },
  {
   "cell_type": "markdown",
   "metadata": {
    "heading_collapsed": true
   },
   "source": [
    "## W60F Mutant"
   ]
  },
  {
   "cell_type": "code",
   "execution_count": 19,
   "metadata": {
    "hidden": true
   },
   "outputs": [],
   "source": [
    "w60f = read_docking_results('w60f')"
   ]
  },
  {
   "cell_type": "code",
   "execution_count": 20,
   "metadata": {
    "hidden": true
   },
   "outputs": [
    {
     "data": {
      "text/html": [
       "<div>\n",
       "<style scoped>\n",
       "    .dataframe tbody tr th:only-of-type {\n",
       "        vertical-align: middle;\n",
       "    }\n",
       "\n",
       "    .dataframe tbody tr th {\n",
       "        vertical-align: top;\n",
       "    }\n",
       "\n",
       "    .dataframe thead th {\n",
       "        text-align: right;\n",
       "    }\n",
       "</style>\n",
       "<table border=\"1\" class=\"dataframe\">\n",
       "  <thead>\n",
       "    <tr style=\"text-align: right;\">\n",
       "      <th></th>\n",
       "      <th>Variant</th>\n",
       "      <th>Ligand</th>\n",
       "      <th>Target</th>\n",
       "      <th>Run 1</th>\n",
       "      <th>Run 2</th>\n",
       "      <th>Run 3</th>\n",
       "      <th>Avg</th>\n",
       "    </tr>\n",
       "  </thead>\n",
       "  <tbody>\n",
       "    <tr>\n",
       "      <th>6</th>\n",
       "      <td>w60f</td>\n",
       "      <td>1a</td>\n",
       "      <td>6</td>\n",
       "      <td>-8.7</td>\n",
       "      <td>-9.0</td>\n",
       "      <td>-8.9</td>\n",
       "      <td>-8.87</td>\n",
       "    </tr>\n",
       "    <tr>\n",
       "      <th>68</th>\n",
       "      <td>w60f</td>\n",
       "      <td>1g</td>\n",
       "      <td>8</td>\n",
       "      <td>-8.9</td>\n",
       "      <td>-9.0</td>\n",
       "      <td>-9.0</td>\n",
       "      <td>-8.97</td>\n",
       "    </tr>\n",
       "    <tr>\n",
       "      <th>16</th>\n",
       "      <td>w60f</td>\n",
       "      <td>23a</td>\n",
       "      <td>1</td>\n",
       "      <td>-8.5</td>\n",
       "      <td>-8.5</td>\n",
       "      <td>-8.1</td>\n",
       "      <td>-8.37</td>\n",
       "    </tr>\n",
       "    <tr>\n",
       "      <th>31</th>\n",
       "      <td>w60f</td>\n",
       "      <td>23g</td>\n",
       "      <td>1</td>\n",
       "      <td>-8.5</td>\n",
       "      <td>-8.6</td>\n",
       "      <td>-8.6</td>\n",
       "      <td>-8.57</td>\n",
       "    </tr>\n",
       "    <tr>\n",
       "      <th>51</th>\n",
       "      <td>w60f</td>\n",
       "      <td>23h</td>\n",
       "      <td>6</td>\n",
       "      <td>-8.6</td>\n",
       "      <td>-8.4</td>\n",
       "      <td>-8.5</td>\n",
       "      <td>-8.50</td>\n",
       "    </tr>\n",
       "    <tr>\n",
       "      <th>98</th>\n",
       "      <td>w60f</td>\n",
       "      <td>C12</td>\n",
       "      <td>8</td>\n",
       "      <td>-8.1</td>\n",
       "      <td>-8.3</td>\n",
       "      <td>-8.3</td>\n",
       "      <td>-8.23</td>\n",
       "    </tr>\n",
       "    <tr>\n",
       "      <th>88</th>\n",
       "      <td>w60f</td>\n",
       "      <td>LBA</td>\n",
       "      <td>13</td>\n",
       "      <td>-7.0</td>\n",
       "      <td>-7.2</td>\n",
       "      <td>-7.3</td>\n",
       "      <td>-7.17</td>\n",
       "    </tr>\n",
       "  </tbody>\n",
       "</table>\n",
       "</div>"
      ],
      "text/plain": [
       "   Variant Ligand Target  Run 1  Run 2  Run 3   Avg\n",
       "6     w60f     1a      6   -8.7   -9.0   -8.9 -8.87\n",
       "68    w60f     1g      8   -8.9   -9.0   -9.0 -8.97\n",
       "16    w60f    23a      1   -8.5   -8.5   -8.1 -8.37\n",
       "31    w60f    23g      1   -8.5   -8.6   -8.6 -8.57\n",
       "51    w60f    23h      6   -8.6   -8.4   -8.5 -8.50\n",
       "98    w60f    C12      8   -8.1   -8.3   -8.3 -8.23\n",
       "88    w60f    LBA     13   -7.0   -7.2   -7.3 -7.17"
      ]
     },
     "execution_count": 20,
     "metadata": {},
     "output_type": "execute_result"
    }
   ],
   "source": [
    "best_w60f = w60f.loc[w60f.groupby([\"Ligand\"])[\"Avg\"].idxmin()]\n",
    "best_w60f"
   ]
  },
  {
   "cell_type": "code",
   "execution_count": 21,
   "metadata": {
    "hidden": true
   },
   "outputs": [],
   "source": [
    "best_w60f.to_csv(\"best_results_w60f.csv\")"
   ]
  },
  {
   "cell_type": "markdown",
   "metadata": {},
   "source": [
    "# Comparing Energies"
   ]
  },
  {
   "cell_type": "markdown",
   "metadata": {},
   "source": [
    "According to the experimental results from Dr. Luesch's group, dosdecanamide A (molecule **1a**), should:\n",
    "\n",
    "* **Activate** the W60F and wildtype\n",
    "* **Have no effect** on Y56F and D73N variants.\n"
   ]
  },
  {
   "cell_type": "code",
   "execution_count": 22,
   "metadata": {},
   "outputs": [
    {
     "data": {
      "text/html": [
       "<style  type=\"text/css\" >\n",
       "</style><table id=\"T_795e76c2_6566_11ea_9c2d_e454e86149af\" ><thead>    <tr>        <th class=\"blank level0\" ></th>        <th class=\"col_heading level0 col0\" >Variant</th>        <th class=\"col_heading level0 col1\" >Ligand</th>        <th class=\"col_heading level0 col2\" >Target</th>        <th class=\"col_heading level0 col3\" >Run 1</th>        <th class=\"col_heading level0 col4\" >Run 2</th>        <th class=\"col_heading level0 col5\" >Run 3</th>        <th class=\"col_heading level0 col6\" >Avg</th>    </tr></thead><tbody>\n",
       "                <tr>\n",
       "                        <th id=\"T_795e76c2_6566_11ea_9c2d_e454e86149aflevel0_row0\" class=\"row_heading level0 row0\" >0</th>\n",
       "                        <td id=\"T_795e76c2_6566_11ea_9c2d_e454e86149afrow0_col0\" class=\"data row0 col0\" >wt</td>\n",
       "                        <td id=\"T_795e76c2_6566_11ea_9c2d_e454e86149afrow0_col1\" class=\"data row0 col1\" >1a</td>\n",
       "                        <td id=\"T_795e76c2_6566_11ea_9c2d_e454e86149afrow0_col2\" class=\"data row0 col2\" >8</td>\n",
       "                        <td id=\"T_795e76c2_6566_11ea_9c2d_e454e86149afrow0_col3\" class=\"data row0 col3\" >-9.7</td>\n",
       "                        <td id=\"T_795e76c2_6566_11ea_9c2d_e454e86149afrow0_col4\" class=\"data row0 col4\" >-9.6</td>\n",
       "                        <td id=\"T_795e76c2_6566_11ea_9c2d_e454e86149afrow0_col5\" class=\"data row0 col5\" >-9.6</td>\n",
       "                        <td id=\"T_795e76c2_6566_11ea_9c2d_e454e86149afrow0_col6\" class=\"data row0 col6\" >-9.63</td>\n",
       "            </tr>\n",
       "            <tr>\n",
       "                        <th id=\"T_795e76c2_6566_11ea_9c2d_e454e86149aflevel0_row1\" class=\"row_heading level0 row1\" >1</th>\n",
       "                        <td id=\"T_795e76c2_6566_11ea_9c2d_e454e86149afrow1_col0\" class=\"data row1 col0\" >d73n</td>\n",
       "                        <td id=\"T_795e76c2_6566_11ea_9c2d_e454e86149afrow1_col1\" class=\"data row1 col1\" >1a</td>\n",
       "                        <td id=\"T_795e76c2_6566_11ea_9c2d_e454e86149afrow1_col2\" class=\"data row1 col2\" >4</td>\n",
       "                        <td id=\"T_795e76c2_6566_11ea_9c2d_e454e86149afrow1_col3\" class=\"data row1 col3\" >-9.9</td>\n",
       "                        <td id=\"T_795e76c2_6566_11ea_9c2d_e454e86149afrow1_col4\" class=\"data row1 col4\" >-9.4</td>\n",
       "                        <td id=\"T_795e76c2_6566_11ea_9c2d_e454e86149afrow1_col5\" class=\"data row1 col5\" >-9.8</td>\n",
       "                        <td id=\"T_795e76c2_6566_11ea_9c2d_e454e86149afrow1_col6\" class=\"data row1 col6\" >-9.70</td>\n",
       "            </tr>\n",
       "            <tr>\n",
       "                        <th id=\"T_795e76c2_6566_11ea_9c2d_e454e86149aflevel0_row2\" class=\"row_heading level0 row2\" >2</th>\n",
       "                        <td id=\"T_795e76c2_6566_11ea_9c2d_e454e86149afrow2_col0\" class=\"data row2 col0\" >y56f</td>\n",
       "                        <td id=\"T_795e76c2_6566_11ea_9c2d_e454e86149afrow2_col1\" class=\"data row2 col1\" >1a</td>\n",
       "                        <td id=\"T_795e76c2_6566_11ea_9c2d_e454e86149afrow2_col2\" class=\"data row2 col2\" >8</td>\n",
       "                        <td id=\"T_795e76c2_6566_11ea_9c2d_e454e86149afrow2_col3\" class=\"data row2 col3\" >-9.3</td>\n",
       "                        <td id=\"T_795e76c2_6566_11ea_9c2d_e454e86149afrow2_col4\" class=\"data row2 col4\" >-9.3</td>\n",
       "                        <td id=\"T_795e76c2_6566_11ea_9c2d_e454e86149afrow2_col5\" class=\"data row2 col5\" >-9.8</td>\n",
       "                        <td id=\"T_795e76c2_6566_11ea_9c2d_e454e86149afrow2_col6\" class=\"data row2 col6\" >-9.47</td>\n",
       "            </tr>\n",
       "            <tr>\n",
       "                        <th id=\"T_795e76c2_6566_11ea_9c2d_e454e86149aflevel0_row3\" class=\"row_heading level0 row3\" >3</th>\n",
       "                        <td id=\"T_795e76c2_6566_11ea_9c2d_e454e86149afrow3_col0\" class=\"data row3 col0\" >w60f</td>\n",
       "                        <td id=\"T_795e76c2_6566_11ea_9c2d_e454e86149afrow3_col1\" class=\"data row3 col1\" >1a</td>\n",
       "                        <td id=\"T_795e76c2_6566_11ea_9c2d_e454e86149afrow3_col2\" class=\"data row3 col2\" >6</td>\n",
       "                        <td id=\"T_795e76c2_6566_11ea_9c2d_e454e86149afrow3_col3\" class=\"data row3 col3\" >-8.7</td>\n",
       "                        <td id=\"T_795e76c2_6566_11ea_9c2d_e454e86149afrow3_col4\" class=\"data row3 col4\" >-9</td>\n",
       "                        <td id=\"T_795e76c2_6566_11ea_9c2d_e454e86149afrow3_col5\" class=\"data row3 col5\" >-8.9</td>\n",
       "                        <td id=\"T_795e76c2_6566_11ea_9c2d_e454e86149afrow3_col6\" class=\"data row3 col6\" >-8.87</td>\n",
       "            </tr>\n",
       "    </tbody></table>"
      ],
      "text/plain": [
       "<pandas.io.formats.style.Styler at 0x7ff528ce3450>"
      ]
     },
     "execution_count": 22,
     "metadata": {},
     "output_type": "execute_result"
    }
   ],
   "source": [
    "best_1a = best_wt.loc[best_wt[\"Ligand\"]=='1a'].copy()\n",
    "best_1a = best_1a.append(best_d73n.loc[best_d73n[\"Ligand\"]=='1a'], ignore_index=True)\n",
    "best_1a = best_1a.append(best_y56f.loc[best_y56f[\"Ligand\"]=='1a'], ignore_index=True)\n",
    "best_1a = best_1a.append(best_w60f.loc[best_w60f[\"Ligand\"]=='1a'], ignore_index=True)\n",
    "best_1a.style.format({'Avg': '{:.2f}'})"
   ]
  },
  {
   "cell_type": "markdown",
   "metadata": {},
   "source": [
    "This is really bad: docking cannot differenticate between the variants, which means *vina* it **is not** recognizing the important interactions.\n",
    "\n",
    "I can think of 2 possibilities to explain this:\n",
    "\n",
    "1. The *Vina* energy function is not appropriate for this deep pocket\n",
    "1. Incomplete sampling of the conformational space of the receptor\n",
    "1. **More likely** the effect of mutation is not related to ligand binding, \n",
    "   but most probably with some chain dynamics that is important for the formation\n",
    "   of the multimer."
   ]
  },
  {
   "cell_type": "code",
   "execution_count": 23,
   "metadata": {},
   "outputs": [],
   "source": [
    "best_1a.to_csv(\"best_1a.csv\")"
   ]
  },
  {
   "cell_type": "markdown",
   "metadata": {},
   "source": [
    "## Best of all"
   ]
  },
  {
   "cell_type": "code",
   "execution_count": 24,
   "metadata": {},
   "outputs": [],
   "source": [
    "def get_best_results(ligand):\n",
    "    _best = best_wt.loc[best_wt[\"Ligand\"]==ligand].copy()\n",
    "    _best = _best.append(best_d73n.loc[best_d73n[\"Ligand\"]==ligand], ignore_index=True)\n",
    "    _best = _best.append(best_y56f.loc[best_y56f[\"Ligand\"]==ligand], ignore_index=True)\n",
    "    _best = _best.append(best_w60f.loc[best_w60f[\"Ligand\"]==ligand], ignore_index=True)\n",
    "    return _best"
   ]
  },
  {
   "cell_type": "code",
   "execution_count": 80,
   "metadata": {},
   "outputs": [
    {
     "data": {
      "text/html": [
       "<div>\n",
       "<style scoped>\n",
       "    .dataframe tbody tr th:only-of-type {\n",
       "        vertical-align: middle;\n",
       "    }\n",
       "\n",
       "    .dataframe tbody tr th {\n",
       "        vertical-align: top;\n",
       "    }\n",
       "\n",
       "    .dataframe thead th {\n",
       "        text-align: right;\n",
       "    }\n",
       "</style>\n",
       "<table border=\"1\" class=\"dataframe\">\n",
       "  <thead>\n",
       "    <tr style=\"text-align: right;\">\n",
       "      <th></th>\n",
       "      <th>Variant</th>\n",
       "      <th>Ligand</th>\n",
       "      <th>Target</th>\n",
       "      <th>Run 1</th>\n",
       "      <th>Run 2</th>\n",
       "      <th>Run 3</th>\n",
       "      <th>Avg</th>\n",
       "    </tr>\n",
       "  </thead>\n",
       "  <tbody>\n",
       "    <tr>\n",
       "      <th>0</th>\n",
       "      <td>wt</td>\n",
       "      <td>23a</td>\n",
       "      <td>12</td>\n",
       "      <td>-9.2</td>\n",
       "      <td>-9.1</td>\n",
       "      <td>-9.2</td>\n",
       "      <td>-9.17</td>\n",
       "    </tr>\n",
       "    <tr>\n",
       "      <th>1</th>\n",
       "      <td>d73n</td>\n",
       "      <td>23a</td>\n",
       "      <td>4</td>\n",
       "      <td>-9.3</td>\n",
       "      <td>-9.3</td>\n",
       "      <td>-9.4</td>\n",
       "      <td>-9.33</td>\n",
       "    </tr>\n",
       "    <tr>\n",
       "      <th>2</th>\n",
       "      <td>y56f</td>\n",
       "      <td>23a</td>\n",
       "      <td>13</td>\n",
       "      <td>-8.9</td>\n",
       "      <td>-8.7</td>\n",
       "      <td>-8.7</td>\n",
       "      <td>-8.77</td>\n",
       "    </tr>\n",
       "    <tr>\n",
       "      <th>3</th>\n",
       "      <td>w60f</td>\n",
       "      <td>23a</td>\n",
       "      <td>1</td>\n",
       "      <td>-8.5</td>\n",
       "      <td>-8.5</td>\n",
       "      <td>-8.1</td>\n",
       "      <td>-8.37</td>\n",
       "    </tr>\n",
       "  </tbody>\n",
       "</table>\n",
       "</div>"
      ],
      "text/plain": [
       "  Variant Ligand Target  Run 1  Run 2  Run 3   Avg\n",
       "0      wt    23a     12   -9.2   -9.1   -9.2 -9.17\n",
       "1    d73n    23a      4   -9.3   -9.3   -9.4 -9.33\n",
       "2    y56f    23a     13   -8.9   -8.7   -8.7 -8.77\n",
       "3    w60f    23a      1   -8.5   -8.5   -8.1 -8.37"
      ]
     },
     "execution_count": 80,
     "metadata": {},
     "output_type": "execute_result"
    }
   ],
   "source": [
    "get_best_results(\"23a\")"
   ]
  },
  {
   "cell_type": "code",
   "execution_count": 26,
   "metadata": {},
   "outputs": [
    {
     "data": {
      "text/plain": [
       "['1a', '23a', '23g', '23h', '1g', 'LBA', 'C12']"
      ]
     },
     "execution_count": 26,
     "metadata": {},
     "output_type": "execute_result"
    }
   ],
   "source": [
    "ligands"
   ]
  },
  {
   "cell_type": "code",
   "execution_count": 74,
   "metadata": {},
   "outputs": [],
   "source": [
    "ligs = ['1a','23a', '23g','23h','1g','C12','LBA']\n",
    "best_all = pd.DataFrame(columns=['Variant','Ligand','Target','Run 1','Run 2','Run 3','Avg'])\n",
    "for ligand in ligs:\n",
    "    best_all = best_all.append(get_best_results(ligand), ignore_index=True, sort=False)"
   ]
  },
  {
   "cell_type": "code",
   "execution_count": 75,
   "metadata": {},
   "outputs": [
    {
     "data": {
      "image/png": "[encoded data removed]",
      "text/plain": [
       "<Figure size 595.625x360 with 1 Axes>"
      ]
     },
     "metadata": {},
     "output_type": "display_data"
    }
   ],
   "source": [
    "plot_style = {'xtick.bottom': True,\n",
    "              'ytick.left': True,\n",
    "              'xtick.direction': 'in',\n",
    "              'ytick.direction': 'in'}\n",
    "\n",
    "with sns.axes_style(\"white\", plot_style):\n",
    "    g = sns.catplot(data=best_all,\n",
    "                    x=\"Variant\",y=\"Avg\", hue=\"Ligand\", \n",
    "                    kind=\"swarm\", s=15, aspect=1.5,\n",
    "                    order=['wt','w60f','d73n','y56f'],\n",
    "                    facet_kws={\"despine\":False}\n",
    "                    \n",
    "                   )\n",
    "    g.savefig(\"best_all.jpg\")\n"
   ]
  },
  {
   "cell_type": "code",
   "execution_count": 62,
   "metadata": {},
   "outputs": [
    {
     "data": {
      "text/html": [
       "<div>\n",
       "<style scoped>\n",
       "    .dataframe tbody tr th:only-of-type {\n",
       "        vertical-align: middle;\n",
       "    }\n",
       "\n",
       "    .dataframe tbody tr th {\n",
       "        vertical-align: top;\n",
       "    }\n",
       "\n",
       "    .dataframe thead th {\n",
       "        text-align: right;\n",
       "    }\n",
       "</style>\n",
       "<table border=\"1\" class=\"dataframe\">\n",
       "  <thead>\n",
       "    <tr style=\"text-align: right;\">\n",
       "      <th></th>\n",
       "      <th>Run 1</th>\n",
       "      <th>Run 2</th>\n",
       "      <th>Run 3</th>\n",
       "      <th>Avg</th>\n",
       "    </tr>\n",
       "  </thead>\n",
       "  <tbody>\n",
       "    <tr>\n",
       "      <th>count</th>\n",
       "      <td>28.00</td>\n",
       "      <td>28.00</td>\n",
       "      <td>28.00</td>\n",
       "      <td>28.00</td>\n",
       "    </tr>\n",
       "    <tr>\n",
       "      <th>mean</th>\n",
       "      <td>-8.76</td>\n",
       "      <td>-8.71</td>\n",
       "      <td>-8.77</td>\n",
       "      <td>-8.75</td>\n",
       "    </tr>\n",
       "    <tr>\n",
       "      <th>std</th>\n",
       "      <td>0.73</td>\n",
       "      <td>0.65</td>\n",
       "      <td>0.71</td>\n",
       "      <td>0.69</td>\n",
       "    </tr>\n",
       "    <tr>\n",
       "      <th>min</th>\n",
       "      <td>-9.90</td>\n",
       "      <td>-9.60</td>\n",
       "      <td>-9.80</td>\n",
       "      <td>-9.70</td>\n",
       "    </tr>\n",
       "    <tr>\n",
       "      <th>25%</th>\n",
       "      <td>-9.22</td>\n",
       "      <td>-9.10</td>\n",
       "      <td>-9.12</td>\n",
       "      <td>-9.14</td>\n",
       "    </tr>\n",
       "    <tr>\n",
       "      <th>50%</th>\n",
       "      <td>-8.95</td>\n",
       "      <td>-8.90</td>\n",
       "      <td>-9.00</td>\n",
       "      <td>-8.97</td>\n",
       "    </tr>\n",
       "    <tr>\n",
       "      <th>75%</th>\n",
       "      <td>-8.57</td>\n",
       "      <td>-8.50</td>\n",
       "      <td>-8.47</td>\n",
       "      <td>-8.50</td>\n",
       "    </tr>\n",
       "    <tr>\n",
       "      <th>max</th>\n",
       "      <td>-7.00</td>\n",
       "      <td>-7.20</td>\n",
       "      <td>-7.30</td>\n",
       "      <td>-7.17</td>\n",
       "    </tr>\n",
       "  </tbody>\n",
       "</table>\n",
       "</div>"
      ],
      "text/plain": [
       "       Run 1  Run 2  Run 3    Avg\n",
       "count  28.00  28.00  28.00  28.00\n",
       "mean   -8.76  -8.71  -8.77  -8.75\n",
       "std     0.73   0.65   0.71   0.69\n",
       "min    -9.90  -9.60  -9.80  -9.70\n",
       "25%    -9.22  -9.10  -9.12  -9.14\n",
       "50%    -8.95  -8.90  -9.00  -8.97\n",
       "75%    -8.57  -8.50  -8.47  -8.50\n",
       "max    -7.00  -7.20  -7.30  -7.17"
      ]
     },
     "execution_count": 62,
     "metadata": {},
     "output_type": "execute_result"
    }
   ],
   "source": [
    "best_all.describe()"
   ]
  },
  {
   "cell_type": "code",
   "execution_count": null,
   "metadata": {},
   "outputs": [],
   "source": []
  },
  {
   "cell_type": "code",
   "execution_count": 29,
   "metadata": {},
   "outputs": [
    {
     "data": {
      "text/html": [
       "<div>\n",
       "<style scoped>\n",
       "    .dataframe tbody tr th:only-of-type {\n",
       "        vertical-align: middle;\n",
       "    }\n",
       "\n",
       "    .dataframe tbody tr th {\n",
       "        vertical-align: top;\n",
       "    }\n",
       "\n",
       "    .dataframe thead th {\n",
       "        text-align: right;\n",
       "    }\n",
       "</style>\n",
       "<table border=\"1\" class=\"dataframe\">\n",
       "  <thead>\n",
       "    <tr style=\"text-align: right;\">\n",
       "      <th></th>\n",
       "      <th>Variant</th>\n",
       "      <th>Ligand</th>\n",
       "      <th>Target</th>\n",
       "      <th>Run 1</th>\n",
       "      <th>Run 2</th>\n",
       "      <th>Run 3</th>\n",
       "      <th>Avg</th>\n",
       "    </tr>\n",
       "  </thead>\n",
       "  <tbody>\n",
       "    <tr>\n",
       "      <th>1</th>\n",
       "      <td>d73n</td>\n",
       "      <td>1a</td>\n",
       "      <td>4</td>\n",
       "      <td>-9.9</td>\n",
       "      <td>-9.4</td>\n",
       "      <td>-9.8</td>\n",
       "      <td>-9.70</td>\n",
       "    </tr>\n",
       "    <tr>\n",
       "      <th>17</th>\n",
       "      <td>d73n</td>\n",
       "      <td>1g</td>\n",
       "      <td>8</td>\n",
       "      <td>-9.0</td>\n",
       "      <td>-9.0</td>\n",
       "      <td>-9.0</td>\n",
       "      <td>-9.00</td>\n",
       "    </tr>\n",
       "    <tr>\n",
       "      <th>5</th>\n",
       "      <td>d73n</td>\n",
       "      <td>23a</td>\n",
       "      <td>4</td>\n",
       "      <td>-9.3</td>\n",
       "      <td>-9.3</td>\n",
       "      <td>-9.4</td>\n",
       "      <td>-9.33</td>\n",
       "    </tr>\n",
       "    <tr>\n",
       "      <th>9</th>\n",
       "      <td>d73n</td>\n",
       "      <td>23g</td>\n",
       "      <td>4</td>\n",
       "      <td>-9.2</td>\n",
       "      <td>-9.3</td>\n",
       "      <td>-9.3</td>\n",
       "      <td>-9.27</td>\n",
       "    </tr>\n",
       "    <tr>\n",
       "      <th>13</th>\n",
       "      <td>d73n</td>\n",
       "      <td>23h</td>\n",
       "      <td>4</td>\n",
       "      <td>-8.9</td>\n",
       "      <td>-9.1</td>\n",
       "      <td>-9.0</td>\n",
       "      <td>-9.00</td>\n",
       "    </tr>\n",
       "    <tr>\n",
       "      <th>25</th>\n",
       "      <td>d73n</td>\n",
       "      <td>C12</td>\n",
       "      <td>4</td>\n",
       "      <td>-8.8</td>\n",
       "      <td>-8.7</td>\n",
       "      <td>-8.9</td>\n",
       "      <td>-8.80</td>\n",
       "    </tr>\n",
       "    <tr>\n",
       "      <th>21</th>\n",
       "      <td>d73n</td>\n",
       "      <td>LBA</td>\n",
       "      <td>7</td>\n",
       "      <td>-7.2</td>\n",
       "      <td>-7.2</td>\n",
       "      <td>-7.3</td>\n",
       "      <td>-7.23</td>\n",
       "    </tr>\n",
       "    <tr>\n",
       "      <th>3</th>\n",
       "      <td>w60f</td>\n",
       "      <td>1a</td>\n",
       "      <td>6</td>\n",
       "      <td>-8.7</td>\n",
       "      <td>-9.0</td>\n",
       "      <td>-8.9</td>\n",
       "      <td>-8.87</td>\n",
       "    </tr>\n",
       "    <tr>\n",
       "      <th>19</th>\n",
       "      <td>w60f</td>\n",
       "      <td>1g</td>\n",
       "      <td>8</td>\n",
       "      <td>-8.9</td>\n",
       "      <td>-9.0</td>\n",
       "      <td>-9.0</td>\n",
       "      <td>-8.97</td>\n",
       "    </tr>\n",
       "    <tr>\n",
       "      <th>7</th>\n",
       "      <td>w60f</td>\n",
       "      <td>23a</td>\n",
       "      <td>1</td>\n",
       "      <td>-8.5</td>\n",
       "      <td>-8.5</td>\n",
       "      <td>-8.1</td>\n",
       "      <td>-8.37</td>\n",
       "    </tr>\n",
       "    <tr>\n",
       "      <th>11</th>\n",
       "      <td>w60f</td>\n",
       "      <td>23g</td>\n",
       "      <td>1</td>\n",
       "      <td>-8.5</td>\n",
       "      <td>-8.6</td>\n",
       "      <td>-8.6</td>\n",
       "      <td>-8.57</td>\n",
       "    </tr>\n",
       "    <tr>\n",
       "      <th>15</th>\n",
       "      <td>w60f</td>\n",
       "      <td>23h</td>\n",
       "      <td>6</td>\n",
       "      <td>-8.6</td>\n",
       "      <td>-8.4</td>\n",
       "      <td>-8.5</td>\n",
       "      <td>-8.50</td>\n",
       "    </tr>\n",
       "    <tr>\n",
       "      <th>27</th>\n",
       "      <td>w60f</td>\n",
       "      <td>C12</td>\n",
       "      <td>8</td>\n",
       "      <td>-8.1</td>\n",
       "      <td>-8.3</td>\n",
       "      <td>-8.3</td>\n",
       "      <td>-8.23</td>\n",
       "    </tr>\n",
       "    <tr>\n",
       "      <th>23</th>\n",
       "      <td>w60f</td>\n",
       "      <td>LBA</td>\n",
       "      <td>13</td>\n",
       "      <td>-7.0</td>\n",
       "      <td>-7.2</td>\n",
       "      <td>-7.3</td>\n",
       "      <td>-7.17</td>\n",
       "    </tr>\n",
       "    <tr>\n",
       "      <th>0</th>\n",
       "      <td>wt</td>\n",
       "      <td>1a</td>\n",
       "      <td>8</td>\n",
       "      <td>-9.7</td>\n",
       "      <td>-9.6</td>\n",
       "      <td>-9.6</td>\n",
       "      <td>-9.63</td>\n",
       "    </tr>\n",
       "    <tr>\n",
       "      <th>16</th>\n",
       "      <td>wt</td>\n",
       "      <td>1g</td>\n",
       "      <td>10</td>\n",
       "      <td>-9.3</td>\n",
       "      <td>-9.0</td>\n",
       "      <td>-9.1</td>\n",
       "      <td>-9.13</td>\n",
       "    </tr>\n",
       "    <tr>\n",
       "      <th>4</th>\n",
       "      <td>wt</td>\n",
       "      <td>23a</td>\n",
       "      <td>12</td>\n",
       "      <td>-9.2</td>\n",
       "      <td>-9.1</td>\n",
       "      <td>-9.2</td>\n",
       "      <td>-9.17</td>\n",
       "    </tr>\n",
       "    <tr>\n",
       "      <th>8</th>\n",
       "      <td>wt</td>\n",
       "      <td>23g</td>\n",
       "      <td>12</td>\n",
       "      <td>-9.3</td>\n",
       "      <td>-9.0</td>\n",
       "      <td>-9.0</td>\n",
       "      <td>-9.10</td>\n",
       "    </tr>\n",
       "    <tr>\n",
       "      <th>12</th>\n",
       "      <td>wt</td>\n",
       "      <td>23h</td>\n",
       "      <td>8</td>\n",
       "      <td>-9.0</td>\n",
       "      <td>-8.9</td>\n",
       "      <td>-9.0</td>\n",
       "      <td>-8.97</td>\n",
       "    </tr>\n",
       "    <tr>\n",
       "      <th>24</th>\n",
       "      <td>wt</td>\n",
       "      <td>C12</td>\n",
       "      <td>12</td>\n",
       "      <td>-9.0</td>\n",
       "      <td>-8.9</td>\n",
       "      <td>-8.9</td>\n",
       "      <td>-8.93</td>\n",
       "    </tr>\n",
       "    <tr>\n",
       "      <th>20</th>\n",
       "      <td>wt</td>\n",
       "      <td>LBA</td>\n",
       "      <td>2</td>\n",
       "      <td>-7.3</td>\n",
       "      <td>-7.4</td>\n",
       "      <td>-7.3</td>\n",
       "      <td>-7.33</td>\n",
       "    </tr>\n",
       "    <tr>\n",
       "      <th>2</th>\n",
       "      <td>y56f</td>\n",
       "      <td>1a</td>\n",
       "      <td>8</td>\n",
       "      <td>-9.3</td>\n",
       "      <td>-9.3</td>\n",
       "      <td>-9.8</td>\n",
       "      <td>-9.47</td>\n",
       "    </tr>\n",
       "    <tr>\n",
       "      <th>18</th>\n",
       "      <td>y56f</td>\n",
       "      <td>1g</td>\n",
       "      <td>8</td>\n",
       "      <td>-9.4</td>\n",
       "      <td>-9.2</td>\n",
       "      <td>-9.4</td>\n",
       "      <td>-9.33</td>\n",
       "    </tr>\n",
       "    <tr>\n",
       "      <th>6</th>\n",
       "      <td>y56f</td>\n",
       "      <td>23a</td>\n",
       "      <td>13</td>\n",
       "      <td>-8.9</td>\n",
       "      <td>-8.7</td>\n",
       "      <td>-8.7</td>\n",
       "      <td>-8.77</td>\n",
       "    </tr>\n",
       "    <tr>\n",
       "      <th>10</th>\n",
       "      <td>y56f</td>\n",
       "      <td>23g</td>\n",
       "      <td>11</td>\n",
       "      <td>-9.2</td>\n",
       "      <td>-8.9</td>\n",
       "      <td>-9.1</td>\n",
       "      <td>-9.07</td>\n",
       "    </tr>\n",
       "    <tr>\n",
       "      <th>14</th>\n",
       "      <td>y56f</td>\n",
       "      <td>23h</td>\n",
       "      <td>11</td>\n",
       "      <td>-9.0</td>\n",
       "      <td>-8.8</td>\n",
       "      <td>-9.1</td>\n",
       "      <td>-8.97</td>\n",
       "    </tr>\n",
       "    <tr>\n",
       "      <th>26</th>\n",
       "      <td>y56f</td>\n",
       "      <td>C12</td>\n",
       "      <td>2</td>\n",
       "      <td>-8.6</td>\n",
       "      <td>-8.5</td>\n",
       "      <td>-8.4</td>\n",
       "      <td>-8.50</td>\n",
       "    </tr>\n",
       "    <tr>\n",
       "      <th>22</th>\n",
       "      <td>y56f</td>\n",
       "      <td>LBA</td>\n",
       "      <td>8</td>\n",
       "      <td>-7.6</td>\n",
       "      <td>-7.6</td>\n",
       "      <td>-7.6</td>\n",
       "      <td>-7.60</td>\n",
       "    </tr>\n",
       "  </tbody>\n",
       "</table>\n",
       "</div>"
      ],
      "text/plain": [
       "   Variant Ligand Target  Run 1  Run 2  Run 3   Avg\n",
       "1     d73n     1a      4   -9.9   -9.4   -9.8 -9.70\n",
       "17    d73n     1g      8   -9.0   -9.0   -9.0 -9.00\n",
       "5     d73n    23a      4   -9.3   -9.3   -9.4 -9.33\n",
       "9     d73n    23g      4   -9.2   -9.3   -9.3 -9.27\n",
       "13    d73n    23h      4   -8.9   -9.1   -9.0 -9.00\n",
       "25    d73n    C12      4   -8.8   -8.7   -8.9 -8.80\n",
       "21    d73n    LBA      7   -7.2   -7.2   -7.3 -7.23\n",
       "3     w60f     1a      6   -8.7   -9.0   -8.9 -8.87\n",
       "19    w60f     1g      8   -8.9   -9.0   -9.0 -8.97\n",
       "7     w60f    23a      1   -8.5   -8.5   -8.1 -8.37\n",
       "11    w60f    23g      1   -8.5   -8.6   -8.6 -8.57\n",
       "15    w60f    23h      6   -8.6   -8.4   -8.5 -8.50\n",
       "27    w60f    C12      8   -8.1   -8.3   -8.3 -8.23\n",
       "23    w60f    LBA     13   -7.0   -7.2   -7.3 -7.17\n",
       "0       wt     1a      8   -9.7   -9.6   -9.6 -9.63\n",
       "16      wt     1g     10   -9.3   -9.0   -9.1 -9.13\n",
       "4       wt    23a     12   -9.2   -9.1   -9.2 -9.17\n",
       "8       wt    23g     12   -9.3   -9.0   -9.0 -9.10\n",
       "12      wt    23h      8   -9.0   -8.9   -9.0 -8.97\n",
       "24      wt    C12     12   -9.0   -8.9   -8.9 -8.93\n",
       "20      wt    LBA      2   -7.3   -7.4   -7.3 -7.33\n",
       "2     y56f     1a      8   -9.3   -9.3   -9.8 -9.47\n",
       "18    y56f     1g      8   -9.4   -9.2   -9.4 -9.33\n",
       "6     y56f    23a     13   -8.9   -8.7   -8.7 -8.77\n",
       "10    y56f    23g     11   -9.2   -8.9   -9.1 -9.07\n",
       "14    y56f    23h     11   -9.0   -8.8   -9.1 -8.97\n",
       "26    y56f    C12      2   -8.6   -8.5   -8.4 -8.50\n",
       "22    y56f    LBA      8   -7.6   -7.6   -7.6 -7.60"
      ]
     },
     "execution_count": 29,
     "metadata": {},
     "output_type": "execute_result"
    }
   ],
   "source": [
    "best_all.sort_values(by=['Variant','Ligand'])"
   ]
  },
  {
   "cell_type": "code",
   "execution_count": 30,
   "metadata": {},
   "outputs": [],
   "source": [
    "best_all.sort_values(by=['Variant','Ligand']).to_csv(\"best_all.dat\", sep=\"\\t\", index=False, float_format=\"%.2f\")"
   ]
  },
  {
   "cell_type": "code",
   "execution_count": 31,
   "metadata": {},
   "outputs": [],
   "source": [
    "best_all.sort_values(by=['Variant','Ligand']).to_csv(\"best_all.csv\", index=False, float_format=\"%.2f\")"
   ]
  },
  {
   "cell_type": "markdown",
   "metadata": {},
   "source": [
    "# Contacts"
   ]
  },
  {
   "cell_type": "markdown",
   "metadata": {},
   "source": [
    "## Reading data"
   ]
  },
  {
   "cell_type": "code",
   "execution_count": 33,
   "metadata": {},
   "outputs": [],
   "source": [
    "contacts = {}\n",
    "\n",
    "for variant in variants:\n",
    "    variant_dir = {}\n",
    "    for ligand in ligands:\n",
    "        filename = f\"contacts/summary_{variant}-{ligand}.tsv\"\n",
    "        variant_dir[ligand] = pd.read_csv(filename, delim_whitespace=True)\n",
    "    contacts[variant]=variant_dir"
   ]
  },
  {
   "cell_type": "code",
   "execution_count": 34,
   "metadata": {},
   "outputs": [
    {
     "data": {
      "text/html": [
       "<div>\n",
       "<style scoped>\n",
       "    .dataframe tbody tr th:only-of-type {\n",
       "        vertical-align: middle;\n",
       "    }\n",
       "\n",
       "    .dataframe tbody tr th {\n",
       "        vertical-align: top;\n",
       "    }\n",
       "\n",
       "    .dataframe thead th {\n",
       "        text-align: right;\n",
       "    }\n",
       "</style>\n",
       "<table border=\"1\" class=\"dataframe\">\n",
       "  <thead>\n",
       "    <tr style=\"text-align: right;\">\n",
       "      <th></th>\n",
       "      <th>Lig</th>\n",
       "      <th>LigAtom</th>\n",
       "      <th>Resid</th>\n",
       "      <th>ResAtom</th>\n",
       "      <th>Count</th>\n",
       "    </tr>\n",
       "  </thead>\n",
       "  <tbody>\n",
       "    <tr>\n",
       "      <th>0</th>\n",
       "      <td>DDA</td>\n",
       "      <td>C4</td>\n",
       "      <td>Val76</td>\n",
       "      <td>HG11</td>\n",
       "      <td>9</td>\n",
       "    </tr>\n",
       "    <tr>\n",
       "      <th>1</th>\n",
       "      <td>DDA</td>\n",
       "      <td>C4</td>\n",
       "      <td>Val76</td>\n",
       "      <td>HG12</td>\n",
       "      <td>8</td>\n",
       "    </tr>\n",
       "    <tr>\n",
       "      <th>2</th>\n",
       "      <td>DDA</td>\n",
       "      <td>C4</td>\n",
       "      <td>Val76</td>\n",
       "      <td>HG13</td>\n",
       "      <td>4</td>\n",
       "    </tr>\n",
       "    <tr>\n",
       "      <th>3</th>\n",
       "      <td>DDA</td>\n",
       "      <td>C4</td>\n",
       "      <td>Ile52</td>\n",
       "      <td>HG12</td>\n",
       "      <td>1</td>\n",
       "    </tr>\n",
       "    <tr>\n",
       "      <th>4</th>\n",
       "      <td>DDA</td>\n",
       "      <td>C4</td>\n",
       "      <td>Ile52</td>\n",
       "      <td>HG13</td>\n",
       "      <td>11</td>\n",
       "    </tr>\n",
       "    <tr>\n",
       "      <th>...</th>\n",
       "      <td>...</td>\n",
       "      <td>...</td>\n",
       "      <td>...</td>\n",
       "      <td>...</td>\n",
       "      <td>...</td>\n",
       "    </tr>\n",
       "    <tr>\n",
       "      <th>5196</th>\n",
       "      <td>DDA</td>\n",
       "      <td>C5</td>\n",
       "      <td>Tyr47</td>\n",
       "      <td>CD2</td>\n",
       "      <td>17</td>\n",
       "    </tr>\n",
       "    <tr>\n",
       "      <th>5197</th>\n",
       "      <td>DDA</td>\n",
       "      <td>C27</td>\n",
       "      <td>Trp60</td>\n",
       "      <td>HZ2</td>\n",
       "      <td>3</td>\n",
       "    </tr>\n",
       "    <tr>\n",
       "      <th>5198</th>\n",
       "      <td>DDA</td>\n",
       "      <td>H11</td>\n",
       "      <td>Tyr47</td>\n",
       "      <td>HH</td>\n",
       "      <td>15</td>\n",
       "    </tr>\n",
       "    <tr>\n",
       "      <th>5199</th>\n",
       "      <td>DDA</td>\n",
       "      <td>C25</td>\n",
       "      <td>Gly68</td>\n",
       "      <td>HA2</td>\n",
       "      <td>2</td>\n",
       "    </tr>\n",
       "    <tr>\n",
       "      <th>5200</th>\n",
       "      <td>DDA</td>\n",
       "      <td>C11</td>\n",
       "      <td>Arg61</td>\n",
       "      <td>HG2</td>\n",
       "      <td>10</td>\n",
       "    </tr>\n",
       "  </tbody>\n",
       "</table>\n",
       "<p>5201 rows × 5 columns</p>\n",
       "</div>"
      ],
      "text/plain": [
       "      Lig LigAtom  Resid ResAtom  Count\n",
       "0     DDA      C4  Val76    HG11      9\n",
       "1     DDA      C4  Val76    HG12      8\n",
       "2     DDA      C4  Val76    HG13      4\n",
       "3     DDA      C4  Ile52    HG12      1\n",
       "4     DDA      C4  Ile52    HG13     11\n",
       "...   ...     ...    ...     ...    ...\n",
       "5196  DDA      C5  Tyr47     CD2     17\n",
       "5197  DDA     C27  Trp60     HZ2      3\n",
       "5198  DDA     H11  Tyr47      HH     15\n",
       "5199  DDA     C25  Gly68     HA2      2\n",
       "5200  DDA     C11  Arg61     HG2     10\n",
       "\n",
       "[5201 rows x 5 columns]"
      ]
     },
     "execution_count": 34,
     "metadata": {},
     "output_type": "execute_result"
    }
   ],
   "source": [
    "contacts['wt']['1a']"
   ]
  },
  {
   "cell_type": "code",
   "execution_count": 35,
   "metadata": {},
   "outputs": [
    {
     "data": {
      "text/html": [
       "<div>\n",
       "<style scoped>\n",
       "    .dataframe tbody tr th:only-of-type {\n",
       "        vertical-align: middle;\n",
       "    }\n",
       "\n",
       "    .dataframe tbody tr th {\n",
       "        vertical-align: top;\n",
       "    }\n",
       "\n",
       "    .dataframe thead th {\n",
       "        text-align: right;\n",
       "    }\n",
       "</style>\n",
       "<table border=\"1\" class=\"dataframe\">\n",
       "  <thead>\n",
       "    <tr style=\"text-align: right;\">\n",
       "      <th></th>\n",
       "      <th>Lig</th>\n",
       "      <th>LigAtom</th>\n",
       "      <th>Resid</th>\n",
       "      <th>ResAtom</th>\n",
       "      <th>Count</th>\n",
       "    </tr>\n",
       "  </thead>\n",
       "  <tbody>\n",
       "    <tr>\n",
       "      <th>4502</th>\n",
       "      <td>DDA</td>\n",
       "      <td>O3</td>\n",
       "      <td>Ser129</td>\n",
       "      <td>OG</td>\n",
       "      <td>172</td>\n",
       "    </tr>\n",
       "    <tr>\n",
       "      <th>4730</th>\n",
       "      <td>DDA</td>\n",
       "      <td>O3</td>\n",
       "      <td>Thr75</td>\n",
       "      <td>OG1</td>\n",
       "      <td>171</td>\n",
       "    </tr>\n",
       "    <tr>\n",
       "      <th>745</th>\n",
       "      <td>DDA</td>\n",
       "      <td>C15</td>\n",
       "      <td>Ser129</td>\n",
       "      <td>OG</td>\n",
       "      <td>156</td>\n",
       "    </tr>\n",
       "    <tr>\n",
       "      <th>3105</th>\n",
       "      <td>DDA</td>\n",
       "      <td>C12</td>\n",
       "      <td>Tyr64</td>\n",
       "      <td>OH</td>\n",
       "      <td>156</td>\n",
       "    </tr>\n",
       "    <tr>\n",
       "      <th>2786</th>\n",
       "      <td>DDA</td>\n",
       "      <td>C11</td>\n",
       "      <td>Tyr64</td>\n",
       "      <td>CE2</td>\n",
       "      <td>154</td>\n",
       "    </tr>\n",
       "    <tr>\n",
       "      <th>...</th>\n",
       "      <td>...</td>\n",
       "      <td>...</td>\n",
       "      <td>...</td>\n",
       "      <td>...</td>\n",
       "      <td>...</td>\n",
       "    </tr>\n",
       "    <tr>\n",
       "      <th>2108</th>\n",
       "      <td>DDA</td>\n",
       "      <td>C11</td>\n",
       "      <td>Leu40</td>\n",
       "      <td>CD1</td>\n",
       "      <td>1</td>\n",
       "    </tr>\n",
       "    <tr>\n",
       "      <th>2491</th>\n",
       "      <td>DDA</td>\n",
       "      <td>C10</td>\n",
       "      <td>Tyr64</td>\n",
       "      <td>HB3</td>\n",
       "      <td>1</td>\n",
       "    </tr>\n",
       "    <tr>\n",
       "      <th>4535</th>\n",
       "      <td>DDA</td>\n",
       "      <td>C1</td>\n",
       "      <td>Arg71</td>\n",
       "      <td>HA</td>\n",
       "      <td>1</td>\n",
       "    </tr>\n",
       "    <tr>\n",
       "      <th>2494</th>\n",
       "      <td>DDA</td>\n",
       "      <td>C23</td>\n",
       "      <td>Thr75</td>\n",
       "      <td>HG21</td>\n",
       "      <td>1</td>\n",
       "    </tr>\n",
       "    <tr>\n",
       "      <th>3607</th>\n",
       "      <td>DDA</td>\n",
       "      <td>C1</td>\n",
       "      <td>Gln45</td>\n",
       "      <td>OE1</td>\n",
       "      <td>1</td>\n",
       "    </tr>\n",
       "  </tbody>\n",
       "</table>\n",
       "<p>5201 rows × 5 columns</p>\n",
       "</div>"
      ],
      "text/plain": [
       "      Lig LigAtom   Resid ResAtom  Count\n",
       "4502  DDA      O3  Ser129      OG    172\n",
       "4730  DDA      O3   Thr75     OG1    171\n",
       "745   DDA     C15  Ser129      OG    156\n",
       "3105  DDA     C12   Tyr64      OH    156\n",
       "2786  DDA     C11   Tyr64     CE2    154\n",
       "...   ...     ...     ...     ...    ...\n",
       "2108  DDA     C11   Leu40     CD1      1\n",
       "2491  DDA     C10   Tyr64     HB3      1\n",
       "4535  DDA      C1   Arg71      HA      1\n",
       "2494  DDA     C23   Thr75    HG21      1\n",
       "3607  DDA      C1   Gln45     OE1      1\n",
       "\n",
       "[5201 rows x 5 columns]"
      ]
     },
     "execution_count": 35,
     "metadata": {},
     "output_type": "execute_result"
    }
   ],
   "source": [
    "contacts[\"wt\"][\"1a\"].sort_values(by=['Count'], ascending=False)"
   ]
  },
  {
   "cell_type": "code",
   "execution_count": 36,
   "metadata": {},
   "outputs": [],
   "source": [
    "# Agrregate all counts by residue\n",
    "\n",
    "aggr_by_res = {}\n",
    "\n",
    "for variant in variants:\n",
    "    variant_dic = {}\n",
    "    for ligand in ligands:\n",
    "        variant_dic[ligand] = contacts[variant][ligand].groupby([\"Resid\"])[\"Count\"].sum()\n",
    "        variant_dic[ligand] = variant_dic[ligand].reindex(sorted(variant_dic[ligand].index, key=lambda x: int(x[3:])))\n",
    "    aggr_by_res[variant]=variant_dic"
   ]
  },
  {
   "cell_type": "code",
   "execution_count": 37,
   "metadata": {},
   "outputs": [],
   "source": [
    "counts_by_res = {}\n",
    "\n",
    "for variant in variants:\n",
    "    variant_df = pd.DataFrame()\n",
    "    \n",
    "    for ligand in ligands:\n",
    "        variant_df = variant_df.join(aggr_by_res[\"wt\"][ligand], how=\"outer\", rsuffix=ligand)\n",
    "    variant_df.rename(columns=dict(zip(variant_df.columns, ligands)), inplace=True)\n",
    "    variant_df.fillna(0,inplace=True)\n",
    "    variant_df = variant_df.reindex(sorted(variant_df.index, key=lambda x: int(x[3:])))\n",
    "    counts_by_res[variant] = variant_df"
   ]
  },
  {
   "cell_type": "code",
   "execution_count": 38,
   "metadata": {},
   "outputs": [
    {
     "data": {
      "text/plain": [
       "['1a', '23a', '23g', '23h', '1g', 'LBA', 'C12']"
      ]
     },
     "execution_count": 38,
     "metadata": {},
     "output_type": "execute_result"
    }
   ],
   "source": [
    "ligands"
   ]
  },
  {
   "cell_type": "code",
   "execution_count": 39,
   "metadata": {},
   "outputs": [
    {
     "data": {
      "text/plain": [
       "<matplotlib.axes._subplots.AxesSubplot at 0x7ff5288fab90>"
      ]
     },
     "execution_count": 39,
     "metadata": {},
     "output_type": "execute_result"
    },
    {
     "data": {
      "image/png": "[encoded data removed]",
      "text/plain": [
       "<Figure size 432x288 with 1 Axes>"
      ]
     },
     "metadata": {
      "needs_background": "light"
     },
     "output_type": "display_data"
    }
   ],
   "source": [
    "counts_by_res['wt'].plot(y=['1a','1g','23a', '23g','23h'])"
   ]
  },
  {
   "cell_type": "markdown",
   "metadata": {},
   "source": [
    "## Plotting with Plot.ly"
   ]
  },
  {
   "cell_type": "code",
   "execution_count": 40,
   "metadata": {},
   "outputs": [],
   "source": [
    "import plotly.graph_objects as go"
   ]
  },
  {
   "cell_type": "code",
   "execution_count": 41,
   "metadata": {},
   "outputs": [
    {
     "data": {
      "text/plain": [
       "['1a', '23a', '23g', '23h', '1g', 'LBA', 'C12']"
      ]
     },
     "execution_count": 41,
     "metadata": {},
     "output_type": "execute_result"
    }
   ],
   "source": [
    "ligands"
   ]
  },
  {
   "cell_type": "code",
   "execution_count": 73,
   "metadata": {
    "code_folding": [
     9,
     13,
     20,
     27,
     34,
     41,
     47,
     53,
     59,
     65,
     71
    ]
   },
   "outputs": [
    {
     "data": {
      "application/vnd.plotly.v1+json": {
       "config": {
        "plotlyServerURL": "https://plot.ly"
       },
       "data": [
        {
         "mode": "lines",
         "name": "1a",
         "type": "scatter",
         "x": [
          "Lys16",
          "Leu36",
          "Phe37",
          "Gly38",
          "Leu39",
          "Leu40",
          "Gln45",
          "Asp46",
          "Tyr47",
          "Glu48",
          "Asn49",
          "Ala50",
          "Phe51",
          "Ile52",
          "Val53",
          "Gly54",
          "Tyr56",
          "Trp60",
          "Arg61",
          "Glu62",
          "Tyr64",
          "Asp65",
          "Arg66",
          "Ala67",
          "Gly68",
          "Tyr69",
          "Ala70",
          "Arg71",
          "Val72",
          "Asp73",
          "Pro74",
          "Thr75",
          "Val76",
          "Ser77",
          "Cys79",
          "Thr80",
          "Trp88",
          "Glu89",
          "Tyr93",
          "Phe101",
          "Phe102",
          "Ala105",
          "Ser106",
          "Leu110",
          "Val111",
          "Thr115",
          "Leu125",
          "Gly126",
          "Ala127",
          "Leu128",
          "Ser129",
          "Arg137",
          "Phe167"
         ],
         "y": [
          13,
          4440,
          148,
          1215,
          91,
          1208,
          184,
          28,
          4777,
          1399,
          0,
          265,
          17,
          4784,
          23,
          34,
          2461,
          2219,
          3001,
          6,
          5897,
          2088,
          2,
          5,
          406,
          117,
          1291,
          228,
          1,
          1198,
          27,
          1092,
          2701,
          21,
          319,
          339,
          2543,
          25,
          1001,
          1233,
          915,
          1012,
          3,
          1413,
          13,
          1007,
          79,
          434,
          2714,
          1,
          2061,
          24,
          17
         ]
        },
        {
         "mode": "lines",
         "name": "23a",
         "type": "scatter",
         "x": [
          "Lys16",
          "Leu36",
          "Phe37",
          "Gly38",
          "Leu39",
          "Leu40",
          "Gln45",
          "Asp46",
          "Tyr47",
          "Glu48",
          "Asn49",
          "Ala50",
          "Phe51",
          "Ile52",
          "Val53",
          "Gly54",
          "Tyr56",
          "Trp60",
          "Arg61",
          "Glu62",
          "Tyr64",
          "Asp65",
          "Arg66",
          "Ala67",
          "Gly68",
          "Tyr69",
          "Ala70",
          "Arg71",
          "Val72",
          "Asp73",
          "Pro74",
          "Thr75",
          "Val76",
          "Ser77",
          "Cys79",
          "Thr80",
          "Trp88",
          "Glu89",
          "Tyr93",
          "Phe101",
          "Phe102",
          "Ala105",
          "Ser106",
          "Leu110",
          "Val111",
          "Thr115",
          "Leu125",
          "Gly126",
          "Ala127",
          "Leu128",
          "Ser129",
          "Arg137",
          "Phe167"
         ],
         "y": [
          4,
          4552,
          107,
          1172,
          80,
          838,
          128,
          45,
          4163,
          1002,
          0,
          202,
          28,
          4023,
          15,
          25,
          2313,
          1848,
          2828,
          2,
          5636,
          1530,
          0,
          0,
          406,
          83,
          1273,
          143,
          2,
          1087,
          30,
          1000,
          2349,
          14,
          235,
          219,
          2555,
          19,
          1076,
          1172,
          941,
          892,
          3,
          1062,
          2,
          742,
          45,
          300,
          2150,
          19,
          1974,
          0,
          32
         ]
        },
        {
         "mode": "lines",
         "name": "23g",
         "type": "scatter",
         "x": [
          "Lys16",
          "Leu36",
          "Phe37",
          "Gly38",
          "Leu39",
          "Leu40",
          "Gln45",
          "Asp46",
          "Tyr47",
          "Glu48",
          "Asn49",
          "Ala50",
          "Phe51",
          "Ile52",
          "Val53",
          "Gly54",
          "Tyr56",
          "Trp60",
          "Arg61",
          "Glu62",
          "Tyr64",
          "Asp65",
          "Arg66",
          "Ala67",
          "Gly68",
          "Tyr69",
          "Ala70",
          "Arg71",
          "Val72",
          "Asp73",
          "Pro74",
          "Thr75",
          "Val76",
          "Ser77",
          "Cys79",
          "Thr80",
          "Trp88",
          "Glu89",
          "Tyr93",
          "Phe101",
          "Phe102",
          "Ala105",
          "Ser106",
          "Leu110",
          "Val111",
          "Thr115",
          "Leu125",
          "Gly126",
          "Ala127",
          "Leu128",
          "Ser129",
          "Arg137",
          "Phe167"
         ],
         "y": [
          3,
          4470,
          100,
          1081,
          83,
          817,
          87,
          68,
          4054,
          1048,
          8,
          211,
          16,
          4078,
          8,
          27,
          2156,
          1829,
          2863,
          1,
          5486,
          1541,
          0,
          0,
          349,
          73,
          1221,
          123,
          0,
          1008,
          27,
          1037,
          2350,
          1,
          270,
          194,
          2574,
          6,
          1057,
          1232,
          912,
          930,
          1,
          1271,
          1,
          824,
          44,
          341,
          2144,
          17,
          2004,
          2,
          0
         ]
        },
        {
         "mode": "lines",
         "name": "23h",
         "type": "scatter",
         "x": [
          "Lys16",
          "Leu36",
          "Phe37",
          "Gly38",
          "Leu39",
          "Leu40",
          "Gln45",
          "Asp46",
          "Tyr47",
          "Glu48",
          "Asn49",
          "Ala50",
          "Phe51",
          "Ile52",
          "Val53",
          "Gly54",
          "Tyr56",
          "Trp60",
          "Arg61",
          "Glu62",
          "Tyr64",
          "Asp65",
          "Arg66",
          "Ala67",
          "Gly68",
          "Tyr69",
          "Ala70",
          "Arg71",
          "Val72",
          "Asp73",
          "Pro74",
          "Thr75",
          "Val76",
          "Ser77",
          "Cys79",
          "Thr80",
          "Trp88",
          "Glu89",
          "Tyr93",
          "Phe101",
          "Phe102",
          "Ala105",
          "Ser106",
          "Leu110",
          "Val111",
          "Thr115",
          "Leu125",
          "Gly126",
          "Ala127",
          "Leu128",
          "Ser129",
          "Arg137",
          "Phe167"
         ],
         "y": [
          5,
          4627,
          110,
          1240,
          91,
          846,
          97,
          36,
          4203,
          1062,
          6,
          230,
          9,
          4112,
          17,
          29,
          2229,
          1899,
          2954,
          9,
          5786,
          1637,
          0,
          0,
          382,
          72,
          1299,
          105,
          0,
          990,
          20,
          1058,
          2317,
          0,
          220,
          194,
          2745,
          12,
          1112,
          1296,
          951,
          968,
          2,
          1248,
          0,
          857,
          38,
          376,
          2374,
          17,
          1974,
          5,
          0
         ]
        },
        {
         "mode": "lines",
         "name": "1g",
         "type": "scatter",
         "x": [
          "Lys16",
          "Leu36",
          "Phe37",
          "Gly38",
          "Leu39",
          "Leu40",
          "Gln45",
          "Asp46",
          "Tyr47",
          "Glu48",
          "Asn49",
          "Ala50",
          "Phe51",
          "Ile52",
          "Val53",
          "Gly54",
          "Tyr56",
          "Trp60",
          "Arg61",
          "Glu62",
          "Tyr64",
          "Asp65",
          "Arg66",
          "Ala67",
          "Gly68",
          "Tyr69",
          "Ala70",
          "Arg71",
          "Val72",
          "Asp73",
          "Pro74",
          "Thr75",
          "Val76",
          "Ser77",
          "Cys79",
          "Thr80",
          "Trp88",
          "Glu89",
          "Tyr93",
          "Phe101",
          "Phe102",
          "Ala105",
          "Ser106",
          "Leu110",
          "Val111",
          "Thr115",
          "Leu125",
          "Gly126",
          "Ala127",
          "Leu128",
          "Ser129",
          "Arg137",
          "Phe167"
         ],
         "y": [
          0,
          3846,
          106,
          1009,
          65,
          398,
          1,
          22,
          2864,
          191,
          0,
          148,
          0,
          2392,
          0,
          1,
          2543,
          2250,
          1899,
          0,
          4735,
          393,
          0,
          0,
          12,
          166,
          385,
          2,
          0,
          1476,
          10,
          1650,
          1955,
          0,
          106,
          31,
          3117,
          0,
          1575,
          1315,
          936,
          1223,
          28,
          1820,
          5,
          816,
          5,
          186,
          1847,
          1,
          1879,
          8,
          0
         ]
        },
        {
         "mode": "lines",
         "name": "C12",
         "type": "scatter",
         "x": [
          "Lys16",
          "Leu36",
          "Phe37",
          "Gly38",
          "Leu39",
          "Leu40",
          "Gln45",
          "Asp46",
          "Tyr47",
          "Glu48",
          "Asn49",
          "Ala50",
          "Phe51",
          "Ile52",
          "Val53",
          "Gly54",
          "Tyr56",
          "Trp60",
          "Arg61",
          "Glu62",
          "Tyr64",
          "Asp65",
          "Arg66",
          "Ala67",
          "Gly68",
          "Tyr69",
          "Ala70",
          "Arg71",
          "Val72",
          "Asp73",
          "Pro74",
          "Thr75",
          "Val76",
          "Ser77",
          "Cys79",
          "Thr80",
          "Trp88",
          "Glu89",
          "Tyr93",
          "Phe101",
          "Phe102",
          "Ala105",
          "Ser106",
          "Leu110",
          "Val111",
          "Thr115",
          "Leu125",
          "Gly126",
          "Ala127",
          "Leu128",
          "Ser129",
          "Arg137",
          "Phe167"
         ],
         "y": [
          0,
          3617,
          94,
          802,
          30,
          445,
          0,
          0,
          2438,
          76,
          0,
          93,
          0,
          2001,
          0,
          1,
          2281,
          1568,
          1481,
          0,
          3906,
          200,
          0,
          0,
          7,
          103,
          223,
          0,
          0,
          851,
          2,
          1164,
          1445,
          0,
          41,
          25,
          2942,
          1,
          1366,
          1007,
          719,
          1021,
          6,
          1481,
          10,
          779,
          0,
          136,
          1580,
          5,
          2293,
          8,
          0
         ]
        },
        {
         "mode": "lines",
         "name": "LBA",
         "type": "scatter",
         "x": [
          "Lys16",
          "Leu36",
          "Phe37",
          "Gly38",
          "Leu39",
          "Leu40",
          "Gln45",
          "Asp46",
          "Tyr47",
          "Glu48",
          "Asn49",
          "Ala50",
          "Phe51",
          "Ile52",
          "Val53",
          "Gly54",
          "Tyr56",
          "Trp60",
          "Arg61",
          "Glu62",
          "Tyr64",
          "Asp65",
          "Arg66",
          "Ala67",
          "Gly68",
          "Tyr69",
          "Ala70",
          "Arg71",
          "Val72",
          "Asp73",
          "Pro74",
          "Thr75",
          "Val76",
          "Ser77",
          "Cys79",
          "Thr80",
          "Trp88",
          "Glu89",
          "Tyr93",
          "Phe101",
          "Phe102",
          "Ala105",
          "Ser106",
          "Leu110",
          "Val111",
          "Thr115",
          "Leu125",
          "Gly126",
          "Ala127",
          "Leu128",
          "Ser129",
          "Arg137",
          "Phe167"
         ],
         "y": [
          0,
          3389,
          102,
          274,
          0,
          82,
          0,
          0,
          1009,
          1,
          0,
          8,
          0,
          969,
          0,
          0,
          2482,
          1978,
          1007,
          0,
          3559,
          62,
          0,
          0,
          0,
          133,
          55,
          0,
          0,
          1193,
          1,
          1501,
          775,
          0,
          7,
          8,
          3091,
          1,
          1635,
          1051,
          873,
          920,
          32,
          1439,
          33,
          590,
          0,
          15,
          874,
          96,
          2035,
          12,
          0
         ]
        }
       ],
       "layout": {
        "annotations": [
         {
          "arrowhead": 2,
          "ax": 0,
          "ay": -80,
          "font": {
           "color": "red",
           "size": 8
          },
          "showarrow": true,
          "text": "Trp60",
          "x": "Trp60",
          "y": 2300
         },
         {
          "arrowhead": 2,
          "ax": -10,
          "ay": -40,
          "font": {
           "color": "red",
           "size": 8
          },
          "showarrow": true,
          "text": "Tyr56",
          "x": "Tyr56",
          "y": 2500
         },
         {
          "arrowhead": 2,
          "ax": 0,
          "ay": -40,
          "font": {
           "color": "red",
           "size": 8
          },
          "showarrow": true,
          "text": "Asp73",
          "x": "Asp73",
          "y": 1500
         },
         {
          "arrowhead": 2,
          "ax": 0,
          "ay": -40,
          "font": {
           "color": "red",
           "size": 8
          },
          "showarrow": true,
          "text": "Ser129",
          "x": "Ser129",
          "y": 2400
         },
         {
          "arrowhead": 2,
          "ax": 0,
          "ay": -40,
          "font": {
           "size": 8
          },
          "showarrow": true,
          "text": "Tyr47",
          "x": "Tyr47",
          "y": 4800
         },
         {
          "arrowhead": 2,
          "ax": 0,
          "ay": -40,
          "font": {
           "size": 8
          },
          "showarrow": true,
          "text": "Ile52",
          "x": "Ile52",
          "y": 4800
         },
         {
          "arrowhead": 2,
          "ax": 0,
          "ay": -40,
          "font": {
           "size": 8
          },
          "showarrow": true,
          "text": "Trp88",
          "x": "Trp88",
          "y": 3150
         },
         {
          "arrowhead": 2,
          "ax": 0,
          "ay": -40,
          "font": {
           "size": 8
          },
          "showarrow": true,
          "text": "Ala70",
          "x": "Ala70",
          "y": 1300
         },
         {
          "arrowhead": 2,
          "ax": 60,
          "ay": -10,
          "font": {
           "size": 8
          },
          "showarrow": true,
          "text": "Tyr64",
          "x": "Tyr64",
          "y": 5900
         },
         {
          "arrowhead": 2,
          "ax": 0,
          "ay": -40,
          "font": {
           "size": 8
          },
          "showarrow": true,
          "text": "Val76",
          "x": "Val76",
          "y": 2750
         }
        ],
        "legend": {
         "font": {
          "size": 10
         },
         "x": 0.85,
         "y": 1
        },
        "margin": {
         "b": 70,
         "l": 80,
         "r": 30,
         "t": 30
        },
        "plot_bgcolor": "white",
        "template": {
         "data": {
          "bar": [
           {
            "error_x": {
             "color": "#2a3f5f"
            },
            "error_y": {
             "color": "#2a3f5f"
            },
            "marker": {
             "line": {
              "color": "#E5ECF6",
              "width": 0.5
             }
            },
            "type": "bar"
           }
          ],
          "barpolar": [
           {
            "marker": {
             "line": {
              "color": "#E5ECF6",
              "width": 0.5
             }
            },
            "type": "barpolar"
           }
          ],
          "carpet": [
           {
            "aaxis": {
             "endlinecolor": "#2a3f5f",
             "gridcolor": "white",
             "linecolor": "white",
             "minorgridcolor": "white",
             "startlinecolor": "#2a3f5f"
            },
            "baxis": {
             "endlinecolor": "#2a3f5f",
             "gridcolor": "white",
             "linecolor": "white",
             "minorgridcolor": "white",
             "startlinecolor": "#2a3f5f"
            },
            "type": "carpet"
           }
          ],
          "choropleth": [
           {
            "colorbar": {
             "outlinewidth": 0,
             "ticks": ""
            },
            "type": "choropleth"
           }
          ],
          "contour": [
           {
            "colorbar": {
             "outlinewidth": 0,
             "ticks": ""
            },
            "colorscale": [
             [
              0,
              "#0d0887"
             ],
             [
              0.1111111111111111,
              "#46039f"
             ],
             [
              0.2222222222222222,
              "#7201a8"
             ],
             [
              0.3333333333333333,
              "#9c179e"
             ],
             [
              0.4444444444444444,
              "#bd3786"
             ],
             [
              0.5555555555555556,
              "#d8576b"
             ],
             [
              0.6666666666666666,
              "#ed7953"
             ],
             [
              0.7777777777777778,
              "#fb9f3a"
             ],
             [
              0.8888888888888888,
              "#fdca26"
             ],
             [
              1,
              "#f0f921"
             ]
            ],
            "type": "contour"
           }
          ],
          "contourcarpet": [
           {
            "colorbar": {
             "outlinewidth": 0,
             "ticks": ""
            },
            "type": "contourcarpet"
           }
          ],
          "heatmap": [
           {
            "colorbar": {
             "outlinewidth": 0,
             "ticks": ""
            },
            "colorscale": [
             [
              0,
              "#0d0887"
             ],
             [
              0.1111111111111111,
              "#46039f"
             ],
             [
              0.2222222222222222,
              "#7201a8"
             ],
             [
              0.3333333333333333,
              "#9c179e"
             ],
             [
              0.4444444444444444,
              "#bd3786"
             ],
             [
              0.5555555555555556,
              "#d8576b"
             ],
             [
              0.6666666666666666,
              "#ed7953"
             ],
             [
              0.7777777777777778,
              "#fb9f3a"
             ],
             [
              0.8888888888888888,
              "#fdca26"
             ],
             [
              1,
              "#f0f921"
             ]
            ],
            "type": "heatmap"
           }
          ],
          "heatmapgl": [
           {
            "colorbar": {
             "outlinewidth": 0,
             "ticks": ""
            },
            "colorscale": [
             [
              0,
              "#0d0887"
             ],
             [
              0.1111111111111111,
              "#46039f"
             ],
             [
              0.2222222222222222,
              "#7201a8"
             ],
             [
              0.3333333333333333,
              "#9c179e"
             ],
             [
              0.4444444444444444,
              "#bd3786"
             ],
             [
              0.5555555555555556,
              "#d8576b"
             ],
             [
              0.6666666666666666,
              "#ed7953"
             ],
             [
              0.7777777777777778,
              "#fb9f3a"
             ],
             [
              0.8888888888888888,
              "#fdca26"
             ],
             [
              1,
              "#f0f921"
             ]
            ],
            "type": "heatmapgl"
           }
          ],
          "histogram": [
           {
            "marker": {
             "colorbar": {
              "outlinewidth": 0,
              "ticks": ""
             }
            },
            "type": "histogram"
           }
          ],
          "histogram2d": [
           {
            "colorbar": {
             "outlinewidth": 0,
             "ticks": ""
            },
            "colorscale": [
             [
              0,
              "#0d0887"
             ],
             [
              0.1111111111111111,
              "#46039f"
             ],
             [
              0.2222222222222222,
              "#7201a8"
             ],
             [
              0.3333333333333333,
              "#9c179e"
             ],
             [
              0.4444444444444444,
              "#bd3786"
             ],
             [
              0.5555555555555556,
              "#d8576b"
             ],
             [
              0.6666666666666666,
              "#ed7953"
             ],
             [
              0.7777777777777778,
              "#fb9f3a"
             ],
             [
              0.8888888888888888,
              "#fdca26"
             ],
             [
              1,
              "#f0f921"
             ]
            ],
            "type": "histogram2d"
           }
          ],
          "histogram2dcontour": [
           {
            "colorbar": {
             "outlinewidth": 0,
             "ticks": ""
            },
            "colorscale": [
             [
              0,
              "#0d0887"
             ],
             [
              0.1111111111111111,
              "#46039f"
             ],
             [
              0.2222222222222222,
              "#7201a8"
             ],
             [
              0.3333333333333333,
              "#9c179e"
             ],
             [
              0.4444444444444444,
              "#bd3786"
             ],
             [
              0.5555555555555556,
              "#d8576b"
             ],
             [
              0.6666666666666666,
              "#ed7953"
             ],
             [
              0.7777777777777778,
              "#fb9f3a"
             ],
             [
              0.8888888888888888,
              "#fdca26"
             ],
             [
              1,
              "#f0f921"
             ]
            ],
            "type": "histogram2dcontour"
           }
          ],
          "mesh3d": [
           {
            "colorbar": {
             "outlinewidth": 0,
             "ticks": ""
            },
            "type": "mesh3d"
           }
          ],
          "parcoords": [
           {
            "line": {
             "colorbar": {
              "outlinewidth": 0,
              "ticks": ""
             }
            },
            "type": "parcoords"
           }
          ],
          "pie": [
           {
            "automargin": true,
            "type": "pie"
           }
          ],
          "scatter": [
           {
            "marker": {
             "colorbar": {
              "outlinewidth": 0,
              "ticks": ""
             }
            },
            "type": "scatter"
           }
          ],
          "scatter3d": [
           {
            "line": {
             "colorbar": {
              "outlinewidth": 0,
              "ticks": ""
             }
            },
            "marker": {
             "colorbar": {
              "outlinewidth": 0,
              "ticks": ""
             }
            },
            "type": "scatter3d"
           }
          ],
          "scattercarpet": [
           {
            "marker": {
             "colorbar": {
              "outlinewidth": 0,
              "ticks": ""
             }
            },
            "type": "scattercarpet"
           }
          ],
          "scattergeo": [
           {
            "marker": {
             "colorbar": {
              "outlinewidth": 0,
              "ticks": ""
             }
            },
            "type": "scattergeo"
           }
          ],
          "scattergl": [
           {
            "marker": {
             "colorbar": {
              "outlinewidth": 0,
              "ticks": ""
             }
            },
            "type": "scattergl"
           }
          ],
          "scattermapbox": [
           {
            "marker": {
             "colorbar": {
              "outlinewidth": 0,
              "ticks": ""
             }
            },
            "type": "scattermapbox"
           }
          ],
          "scatterpolar": [
           {
            "marker": {
             "colorbar": {
              "outlinewidth": 0,
              "ticks": ""
             }
            },
            "type": "scatterpolar"
           }
          ],
          "scatterpolargl": [
           {
            "marker": {
             "colorbar": {
              "outlinewidth": 0,
              "ticks": ""
             }
            },
            "type": "scatterpolargl"
           }
          ],
          "scatterternary": [
           {
            "marker": {
             "colorbar": {
              "outlinewidth": 0,
              "ticks": ""
             }
            },
            "type": "scatterternary"
           }
          ],
          "surface": [
           {
            "colorbar": {
             "outlinewidth": 0,
             "ticks": ""
            },
            "colorscale": [
             [
              0,
              "#0d0887"
             ],
             [
              0.1111111111111111,
              "#46039f"
             ],
             [
              0.2222222222222222,
              "#7201a8"
             ],
             [
              0.3333333333333333,
              "#9c179e"
             ],
             [
              0.4444444444444444,
              "#bd3786"
             ],
             [
              0.5555555555555556,
              "#d8576b"
             ],
             [
              0.6666666666666666,
              "#ed7953"
             ],
             [
              0.7777777777777778,
              "#fb9f3a"
             ],
             [
              0.8888888888888888,
              "#fdca26"
             ],
             [
              1,
              "#f0f921"
             ]
            ],
            "type": "surface"
           }
          ],
          "table": [
           {
            "cells": {
             "fill": {
              "color": "#EBF0F8"
             },
             "line": {
              "color": "white"
             }
            },
            "header": {
             "fill": {
              "color": "#C8D4E3"
             },
             "line": {
              "color": "white"
             }
            },
            "type": "table"
           }
          ]
         },
         "layout": {
          "annotationdefaults": {
           "arrowcolor": "#2a3f5f",
           "arrowhead": 0,
           "arrowwidth": 1
          },
          "coloraxis": {
           "colorbar": {
            "outlinewidth": 0,
            "ticks": ""
           }
          },
          "colorscale": {
           "diverging": [
            [
             0,
             "#8e0152"
            ],
            [
             0.1,
             "#c51b7d"
            ],
            [
             0.2,
             "#de77ae"
            ],
            [
             0.3,
             "#f1b6da"
            ],
            [
             0.4,
             "#fde0ef"
            ],
            [
             0.5,
             "#f7f7f7"
            ],
            [
             0.6,
             "#e6f5d0"
            ],
            [
             0.7,
             "#b8e186"
            ],
            [
             0.8,
             "#7fbc41"
            ],
            [
             0.9,
             "#4d9221"
            ],
            [
             1,
             "#276419"
            ]
           ],
           "sequential": [
            [
             0,
             "#0d0887"
            ],
            [
             0.1111111111111111,
             "#46039f"
            ],
            [
             0.2222222222222222,
             "#7201a8"
            ],
            [
             0.3333333333333333,
             "#9c179e"
            ],
            [
             0.4444444444444444,
             "#bd3786"
            ],
            [
             0.5555555555555556,
             "#d8576b"
            ],
            [
             0.6666666666666666,
             "#ed7953"
            ],
            [
             0.7777777777777778,
             "#fb9f3a"
            ],
            [
             0.8888888888888888,
             "#fdca26"
            ],
            [
             1,
             "#f0f921"
            ]
           ],
           "sequentialminus": [
            [
             0,
             "#0d0887"
            ],
            [
             0.1111111111111111,
             "#46039f"
            ],
            [
             0.2222222222222222,
             "#7201a8"
            ],
            [
             0.3333333333333333,
             "#9c179e"
            ],
            [
             0.4444444444444444,
             "#bd3786"
            ],
            [
             0.5555555555555556,
             "#d8576b"
            ],
            [
             0.6666666666666666,
             "#ed7953"
            ],
            [
             0.7777777777777778,
             "#fb9f3a"
            ],
            [
             0.8888888888888888,
             "#fdca26"
            ],
            [
             1,
             "#f0f921"
            ]
           ]
          },
          "colorway": [
           "#636efa",
           "#EF553B",
           "#00cc96",
           "#ab63fa",
           "#FFA15A",
           "#19d3f3",
           "#FF6692",
           "#B6E880",
           "#FF97FF",
           "#FECB52"
          ],
          "font": {
           "color": "#2a3f5f"
          },
          "geo": {
           "bgcolor": "white",
           "lakecolor": "white",
           "landcolor": "#E5ECF6",
           "showlakes": true,
           "showland": true,
           "subunitcolor": "white"
          },
          "hoverlabel": {
           "align": "left"
          },
          "hovermode": "closest",
          "mapbox": {
           "style": "light"
          },
          "paper_bgcolor": "white",
          "plot_bgcolor": "#E5ECF6",
          "polar": {
           "angularaxis": {
            "gridcolor": "white",
            "linecolor": "white",
            "ticks": ""
           },
           "bgcolor": "#E5ECF6",
           "radialaxis": {
            "gridcolor": "white",
            "linecolor": "white",
            "ticks": ""
           }
          },
          "scene": {
           "xaxis": {
            "backgroundcolor": "#E5ECF6",
            "gridcolor": "white",
            "gridwidth": 2,
            "linecolor": "white",
            "showbackground": true,
            "ticks": "",
            "zerolinecolor": "white"
           },
           "yaxis": {
            "backgroundcolor": "#E5ECF6",
            "gridcolor": "white",
            "gridwidth": 2,
            "linecolor": "white",
            "showbackground": true,
            "ticks": "",
            "zerolinecolor": "white"
           },
           "zaxis": {
            "backgroundcolor": "#E5ECF6",
            "gridcolor": "white",
            "gridwidth": 2,
            "linecolor": "white",
            "showbackground": true,
            "ticks": "",
            "zerolinecolor": "white"
           }
          },
          "shapedefaults": {
           "line": {
            "color": "#2a3f5f"
           }
          },
          "ternary": {
           "aaxis": {
            "gridcolor": "white",
            "linecolor": "white",
            "ticks": ""
           },
           "baxis": {
            "gridcolor": "white",
            "linecolor": "white",
            "ticks": ""
           },
           "bgcolor": "#E5ECF6",
           "caxis": {
            "gridcolor": "white",
            "linecolor": "white",
            "ticks": ""
           }
          },
          "title": {
           "x": 0.05
          },
          "xaxis": {
           "automargin": true,
           "gridcolor": "white",
           "linecolor": "white",
           "ticks": "",
           "title": {
            "standoff": 15
           },
           "zerolinecolor": "white",
           "zerolinewidth": 2
          },
          "yaxis": {
           "automargin": true,
           "gridcolor": "white",
           "linecolor": "white",
           "ticks": "",
           "title": {
            "standoff": 15
           },
           "zerolinecolor": "white",
           "zerolinewidth": 2
          }
         }
        },
        "xaxis": {
         "gridcolor": "lightgray",
         "linecolor": "gray",
         "mirror": true,
         "showgrid": false,
         "showline": true,
         "tickangle": -45,
         "tickfont": {
          "size": 10
         },
         "ticks": "inside",
         "title": {
          "font": {
           "size": 14
          },
          "text": "Residue"
         }
        },
        "yaxis": {
         "gridcolor": "lightgray",
         "linecolor": "grey",
         "mirror": true,
         "showgrid": false,
         "showline": true,
         "tickfont": {
          "size": 10
         },
         "title": {
          "font": {
           "size": 14
          },
          "text": "Counts"
         }
        }
       }
      },
      "text/html": [
       "<div>\n",
       "        \n",
       "        \n",
       "            <div id=\"24888618-943b-4cd0-a5a5-11618d8ddb23\" class=\"plotly-graph-div\" style=\"height:525px; width:100%;\"></div>\n",
       "            <script type=\"text/javascript\">\n",
       "                require([\"plotly\"], function(Plotly) {\n",
       "                    window.PLOTLYENV=window.PLOTLYENV || {};\n",
       "                    \n",
       "                if (document.getElementById(\"24888618-943b-4cd0-a5a5-11618d8ddb23\")) {\n",
       "                    Plotly.newPlot(\n",
       "                        '24888618-943b-4cd0-a5a5-11618d8ddb23',\n",
       "                        [{\"mode\": \"lines\", \"name\": \"1a\", \"type\": \"scatter\", \"x\": [\"Lys16\", \"Leu36\", \"Phe37\", \"Gly38\", \"Leu39\", \"Leu40\", \"Gln45\", \"Asp46\", \"Tyr47\", \"Glu48\", \"Asn49\", \"Ala50\", \"Phe51\", \"Ile52\", \"Val53\", \"Gly54\", \"Tyr56\", \"Trp60\", \"Arg61\", \"Glu62\", \"Tyr64\", \"Asp65\", \"Arg66\", \"Ala67\", \"Gly68\", \"Tyr69\", \"Ala70\", \"Arg71\", \"Val72\", \"Asp73\", \"Pro74\", \"Thr75\", \"Val76\", \"Ser77\", \"Cys79\", \"Thr80\", \"Trp88\", \"Glu89\", \"Tyr93\", \"Phe101\", \"Phe102\", \"Ala105\", \"Ser106\", \"Leu110\", \"Val111\", \"Thr115\", \"Leu125\", \"Gly126\", \"Ala127\", \"Leu128\", \"Ser129\", \"Arg137\", \"Phe167\"], \"y\": [13.0, 4440.0, 148.0, 1215.0, 91.0, 1208.0, 184.0, 28.0, 4777.0, 1399.0, 0.0, 265.0, 17.0, 4784.0, 23.0, 34.0, 2461.0, 2219.0, 3001.0, 6.0, 5897.0, 2088.0, 2.0, 5.0, 406.0, 117.0, 1291.0, 228.0, 1.0, 1198.0, 27.0, 1092.0, 2701.0, 21.0, 319.0, 339.0, 2543.0, 25.0, 1001.0, 1233.0, 915.0, 1012.0, 3.0, 1413.0, 13.0, 1007.0, 79.0, 434.0, 2714.0, 1.0, 2061.0, 24.0, 17.0]}, {\"mode\": \"lines\", \"name\": \"23a\", \"type\": \"scatter\", \"x\": [\"Lys16\", \"Leu36\", \"Phe37\", \"Gly38\", \"Leu39\", \"Leu40\", \"Gln45\", \"Asp46\", \"Tyr47\", \"Glu48\", \"Asn49\", \"Ala50\", \"Phe51\", \"Ile52\", \"Val53\", \"Gly54\", \"Tyr56\", \"Trp60\", \"Arg61\", \"Glu62\", \"Tyr64\", \"Asp65\", \"Arg66\", \"Ala67\", \"Gly68\", \"Tyr69\", \"Ala70\", \"Arg71\", \"Val72\", \"Asp73\", \"Pro74\", \"Thr75\", \"Val76\", \"Ser77\", \"Cys79\", \"Thr80\", \"Trp88\", \"Glu89\", \"Tyr93\", \"Phe101\", \"Phe102\", \"Ala105\", \"Ser106\", \"Leu110\", \"Val111\", \"Thr115\", \"Leu125\", \"Gly126\", \"Ala127\", \"Leu128\", \"Ser129\", \"Arg137\", \"Phe167\"], \"y\": [4.0, 4552.0, 107.0, 1172.0, 80.0, 838.0, 128.0, 45.0, 4163.0, 1002.0, 0.0, 202.0, 28.0, 4023.0, 15.0, 25.0, 2313.0, 1848.0, 2828.0, 2.0, 5636.0, 1530.0, 0.0, 0.0, 406.0, 83.0, 1273.0, 143.0, 2.0, 1087.0, 30.0, 1000.0, 2349.0, 14.0, 235.0, 219.0, 2555.0, 19.0, 1076.0, 1172.0, 941.0, 892.0, 3.0, 1062.0, 2.0, 742.0, 45.0, 300.0, 2150.0, 19.0, 1974.0, 0.0, 32.0]}, {\"mode\": \"lines\", \"name\": \"23g\", \"type\": \"scatter\", \"x\": [\"Lys16\", \"Leu36\", \"Phe37\", \"Gly38\", \"Leu39\", \"Leu40\", \"Gln45\", \"Asp46\", \"Tyr47\", \"Glu48\", \"Asn49\", \"Ala50\", \"Phe51\", \"Ile52\", \"Val53\", \"Gly54\", \"Tyr56\", \"Trp60\", \"Arg61\", \"Glu62\", \"Tyr64\", \"Asp65\", \"Arg66\", \"Ala67\", \"Gly68\", \"Tyr69\", \"Ala70\", \"Arg71\", \"Val72\", \"Asp73\", \"Pro74\", \"Thr75\", \"Val76\", \"Ser77\", \"Cys79\", \"Thr80\", \"Trp88\", \"Glu89\", \"Tyr93\", \"Phe101\", \"Phe102\", \"Ala105\", \"Ser106\", \"Leu110\", \"Val111\", \"Thr115\", \"Leu125\", \"Gly126\", \"Ala127\", \"Leu128\", \"Ser129\", \"Arg137\", \"Phe167\"], \"y\": [3.0, 4470.0, 100.0, 1081.0, 83.0, 817.0, 87.0, 68.0, 4054.0, 1048.0, 8.0, 211.0, 16.0, 4078.0, 8.0, 27.0, 2156.0, 1829.0, 2863.0, 1.0, 5486.0, 1541.0, 0.0, 0.0, 349.0, 73.0, 1221.0, 123.0, 0.0, 1008.0, 27.0, 1037.0, 2350.0, 1.0, 270.0, 194.0, 2574.0, 6.0, 1057.0, 1232.0, 912.0, 930.0, 1.0, 1271.0, 1.0, 824.0, 44.0, 341.0, 2144.0, 17.0, 2004.0, 2.0, 0.0]}, {\"mode\": \"lines\", \"name\": \"23h\", \"type\": \"scatter\", \"x\": [\"Lys16\", \"Leu36\", \"Phe37\", \"Gly38\", \"Leu39\", \"Leu40\", \"Gln45\", \"Asp46\", \"Tyr47\", \"Glu48\", \"Asn49\", \"Ala50\", \"Phe51\", \"Ile52\", \"Val53\", \"Gly54\", \"Tyr56\", \"Trp60\", \"Arg61\", \"Glu62\", \"Tyr64\", \"Asp65\", \"Arg66\", \"Ala67\", \"Gly68\", \"Tyr69\", \"Ala70\", \"Arg71\", \"Val72\", \"Asp73\", \"Pro74\", \"Thr75\", \"Val76\", \"Ser77\", \"Cys79\", \"Thr80\", \"Trp88\", \"Glu89\", \"Tyr93\", \"Phe101\", \"Phe102\", \"Ala105\", \"Ser106\", \"Leu110\", \"Val111\", \"Thr115\", \"Leu125\", \"Gly126\", \"Ala127\", \"Leu128\", \"Ser129\", \"Arg137\", \"Phe167\"], \"y\": [5.0, 4627.0, 110.0, 1240.0, 91.0, 846.0, 97.0, 36.0, 4203.0, 1062.0, 6.0, 230.0, 9.0, 4112.0, 17.0, 29.0, 2229.0, 1899.0, 2954.0, 9.0, 5786.0, 1637.0, 0.0, 0.0, 382.0, 72.0, 1299.0, 105.0, 0.0, 990.0, 20.0, 1058.0, 2317.0, 0.0, 220.0, 194.0, 2745.0, 12.0, 1112.0, 1296.0, 951.0, 968.0, 2.0, 1248.0, 0.0, 857.0, 38.0, 376.0, 2374.0, 17.0, 1974.0, 5.0, 0.0]}, {\"mode\": \"lines\", \"name\": \"1g\", \"type\": \"scatter\", \"x\": [\"Lys16\", \"Leu36\", \"Phe37\", \"Gly38\", \"Leu39\", \"Leu40\", \"Gln45\", \"Asp46\", \"Tyr47\", \"Glu48\", \"Asn49\", \"Ala50\", \"Phe51\", \"Ile52\", \"Val53\", \"Gly54\", \"Tyr56\", \"Trp60\", \"Arg61\", \"Glu62\", \"Tyr64\", \"Asp65\", \"Arg66\", \"Ala67\", \"Gly68\", \"Tyr69\", \"Ala70\", \"Arg71\", \"Val72\", \"Asp73\", \"Pro74\", \"Thr75\", \"Val76\", \"Ser77\", \"Cys79\", \"Thr80\", \"Trp88\", \"Glu89\", \"Tyr93\", \"Phe101\", \"Phe102\", \"Ala105\", \"Ser106\", \"Leu110\", \"Val111\", \"Thr115\", \"Leu125\", \"Gly126\", \"Ala127\", \"Leu128\", \"Ser129\", \"Arg137\", \"Phe167\"], \"y\": [0.0, 3846.0, 106.0, 1009.0, 65.0, 398.0, 1.0, 22.0, 2864.0, 191.0, 0.0, 148.0, 0.0, 2392.0, 0.0, 1.0, 2543.0, 2250.0, 1899.0, 0.0, 4735.0, 393.0, 0.0, 0.0, 12.0, 166.0, 385.0, 2.0, 0.0, 1476.0, 10.0, 1650.0, 1955.0, 0.0, 106.0, 31.0, 3117.0, 0.0, 1575.0, 1315.0, 936.0, 1223.0, 28.0, 1820.0, 5.0, 816.0, 5.0, 186.0, 1847.0, 1.0, 1879.0, 8.0, 0.0]}, {\"mode\": \"lines\", \"name\": \"C12\", \"type\": \"scatter\", \"x\": [\"Lys16\", \"Leu36\", \"Phe37\", \"Gly38\", \"Leu39\", \"Leu40\", \"Gln45\", \"Asp46\", \"Tyr47\", \"Glu48\", \"Asn49\", \"Ala50\", \"Phe51\", \"Ile52\", \"Val53\", \"Gly54\", \"Tyr56\", \"Trp60\", \"Arg61\", \"Glu62\", \"Tyr64\", \"Asp65\", \"Arg66\", \"Ala67\", \"Gly68\", \"Tyr69\", \"Ala70\", \"Arg71\", \"Val72\", \"Asp73\", \"Pro74\", \"Thr75\", \"Val76\", \"Ser77\", \"Cys79\", \"Thr80\", \"Trp88\", \"Glu89\", \"Tyr93\", \"Phe101\", \"Phe102\", \"Ala105\", \"Ser106\", \"Leu110\", \"Val111\", \"Thr115\", \"Leu125\", \"Gly126\", \"Ala127\", \"Leu128\", \"Ser129\", \"Arg137\", \"Phe167\"], \"y\": [0.0, 3617.0, 94.0, 802.0, 30.0, 445.0, 0.0, 0.0, 2438.0, 76.0, 0.0, 93.0, 0.0, 2001.0, 0.0, 1.0, 2281.0, 1568.0, 1481.0, 0.0, 3906.0, 200.0, 0.0, 0.0, 7.0, 103.0, 223.0, 0.0, 0.0, 851.0, 2.0, 1164.0, 1445.0, 0.0, 41.0, 25.0, 2942.0, 1.0, 1366.0, 1007.0, 719.0, 1021.0, 6.0, 1481.0, 10.0, 779.0, 0.0, 136.0, 1580.0, 5.0, 2293.0, 8.0, 0.0]}, {\"mode\": \"lines\", \"name\": \"LBA\", \"type\": \"scatter\", \"x\": [\"Lys16\", \"Leu36\", \"Phe37\", \"Gly38\", \"Leu39\", \"Leu40\", \"Gln45\", \"Asp46\", \"Tyr47\", \"Glu48\", \"Asn49\", \"Ala50\", \"Phe51\", \"Ile52\", \"Val53\", \"Gly54\", \"Tyr56\", \"Trp60\", \"Arg61\", \"Glu62\", \"Tyr64\", \"Asp65\", \"Arg66\", \"Ala67\", \"Gly68\", \"Tyr69\", \"Ala70\", \"Arg71\", \"Val72\", \"Asp73\", \"Pro74\", \"Thr75\", \"Val76\", \"Ser77\", \"Cys79\", \"Thr80\", \"Trp88\", \"Glu89\", \"Tyr93\", \"Phe101\", \"Phe102\", \"Ala105\", \"Ser106\", \"Leu110\", \"Val111\", \"Thr115\", \"Leu125\", \"Gly126\", \"Ala127\", \"Leu128\", \"Ser129\", \"Arg137\", \"Phe167\"], \"y\": [0.0, 3389.0, 102.0, 274.0, 0.0, 82.0, 0.0, 0.0, 1009.0, 1.0, 0.0, 8.0, 0.0, 969.0, 0.0, 0.0, 2482.0, 1978.0, 1007.0, 0.0, 3559.0, 62.0, 0.0, 0.0, 0.0, 133.0, 55.0, 0.0, 0.0, 1193.0, 1.0, 1501.0, 775.0, 0.0, 7.0, 8.0, 3091.0, 1.0, 1635.0, 1051.0, 873.0, 920.0, 32.0, 1439.0, 33.0, 590.0, 0.0, 15.0, 874.0, 96.0, 2035.0, 12.0, 0.0]}],\n",
       "                        {\"annotations\": [{\"arrowhead\": 2, \"ax\": 0, \"ay\": -80, \"font\": {\"color\": \"red\", \"size\": 8}, \"showarrow\": true, \"text\": \"Trp60\", \"x\": \"Trp60\", \"y\": 2300}, {\"arrowhead\": 2, \"ax\": -10, \"ay\": -40, \"font\": {\"color\": \"red\", \"size\": 8}, \"showarrow\": true, \"text\": \"Tyr56\", \"x\": \"Tyr56\", \"y\": 2500}, {\"arrowhead\": 2, \"ax\": 0, \"ay\": -40, \"font\": {\"color\": \"red\", \"size\": 8}, \"showarrow\": true, \"text\": \"Asp73\", \"x\": \"Asp73\", \"y\": 1500}, {\"arrowhead\": 2, \"ax\": 0, \"ay\": -40, \"font\": {\"color\": \"red\", \"size\": 8}, \"showarrow\": true, \"text\": \"Ser129\", \"x\": \"Ser129\", \"y\": 2400}, {\"arrowhead\": 2, \"ax\": 0, \"ay\": -40, \"font\": {\"size\": 8}, \"showarrow\": true, \"text\": \"Tyr47\", \"x\": \"Tyr47\", \"y\": 4800}, {\"arrowhead\": 2, \"ax\": 0, \"ay\": -40, \"font\": {\"size\": 8}, \"showarrow\": true, \"text\": \"Ile52\", \"x\": \"Ile52\", \"y\": 4800}, {\"arrowhead\": 2, \"ax\": 0, \"ay\": -40, \"font\": {\"size\": 8}, \"showarrow\": true, \"text\": \"Trp88\", \"x\": \"Trp88\", \"y\": 3150}, {\"arrowhead\": 2, \"ax\": 0, \"ay\": -40, \"font\": {\"size\": 8}, \"showarrow\": true, \"text\": \"Ala70\", \"x\": \"Ala70\", \"y\": 1300}, {\"arrowhead\": 2, \"ax\": 60, \"ay\": -10, \"font\": {\"size\": 8}, \"showarrow\": true, \"text\": \"Tyr64\", \"x\": \"Tyr64\", \"y\": 5900}, {\"arrowhead\": 2, \"ax\": 0, \"ay\": -40, \"font\": {\"size\": 8}, \"showarrow\": true, \"text\": \"Val76\", \"x\": \"Val76\", \"y\": 2750}], \"legend\": {\"font\": {\"size\": 10}, \"x\": 0.85, \"y\": 1.0}, \"margin\": {\"b\": 70, \"l\": 80, \"r\": 30, \"t\": 30}, \"plot_bgcolor\": \"white\", \"template\": {\"data\": {\"bar\": [{\"error_x\": {\"color\": \"#2a3f5f\"}, \"error_y\": {\"color\": \"#2a3f5f\"}, \"marker\": {\"line\": {\"color\": \"#E5ECF6\", \"width\": 0.5}}, \"type\": \"bar\"}], \"barpolar\": [{\"marker\": {\"line\": {\"color\": \"#E5ECF6\", \"width\": 0.5}}, \"type\": \"barpolar\"}], \"carpet\": [{\"aaxis\": {\"endlinecolor\": \"#2a3f5f\", \"gridcolor\": \"white\", \"linecolor\": \"white\", \"minorgridcolor\": \"white\", \"startlinecolor\": \"#2a3f5f\"}, \"baxis\": {\"endlinecolor\": \"#2a3f5f\", \"gridcolor\": \"white\", \"linecolor\": \"white\", \"minorgridcolor\": \"white\", \"startlinecolor\": \"#2a3f5f\"}, \"type\": \"carpet\"}], \"choropleth\": [{\"colorbar\": {\"outlinewidth\": 0, \"ticks\": \"\"}, \"type\": \"choropleth\"}], \"contour\": [{\"colorbar\": {\"outlinewidth\": 0, \"ticks\": \"\"}, \"colorscale\": [[0.0, \"#0d0887\"], [0.1111111111111111, \"#46039f\"], [0.2222222222222222, \"#7201a8\"], [0.3333333333333333, \"#9c179e\"], [0.4444444444444444, \"#bd3786\"], [0.5555555555555556, \"#d8576b\"], [0.6666666666666666, \"#ed7953\"], [0.7777777777777778, \"#fb9f3a\"], [0.8888888888888888, \"#fdca26\"], [1.0, \"#f0f921\"]], \"type\": \"contour\"}], \"contourcarpet\": [{\"colorbar\": {\"outlinewidth\": 0, \"ticks\": \"\"}, \"type\": \"contourcarpet\"}], \"heatmap\": [{\"colorbar\": {\"outlinewidth\": 0, \"ticks\": \"\"}, \"colorscale\": [[0.0, \"#0d0887\"], [0.1111111111111111, \"#46039f\"], [0.2222222222222222, \"#7201a8\"], [0.3333333333333333, \"#9c179e\"], [0.4444444444444444, \"#bd3786\"], [0.5555555555555556, \"#d8576b\"], [0.6666666666666666, \"#ed7953\"], [0.7777777777777778, \"#fb9f3a\"], [0.8888888888888888, \"#fdca26\"], [1.0, \"#f0f921\"]], \"type\": \"heatmap\"}], \"heatmapgl\": [{\"colorbar\": {\"outlinewidth\": 0, \"ticks\": \"\"}, \"colorscale\": [[0.0, \"#0d0887\"], [0.1111111111111111, \"#46039f\"], [0.2222222222222222, \"#7201a8\"], [0.3333333333333333, \"#9c179e\"], [0.4444444444444444, \"#bd3786\"], [0.5555555555555556, \"#d8576b\"], [0.6666666666666666, \"#ed7953\"], [0.7777777777777778, \"#fb9f3a\"], [0.8888888888888888, \"#fdca26\"], [1.0, \"#f0f921\"]], \"type\": \"heatmapgl\"}], \"histogram\": [{\"marker\": {\"colorbar\": {\"outlinewidth\": 0, \"ticks\": \"\"}}, \"type\": \"histogram\"}], \"histogram2d\": [{\"colorbar\": {\"outlinewidth\": 0, \"ticks\": \"\"}, \"colorscale\": [[0.0, \"#0d0887\"], [0.1111111111111111, \"#46039f\"], [0.2222222222222222, \"#7201a8\"], [0.3333333333333333, \"#9c179e\"], [0.4444444444444444, \"#bd3786\"], [0.5555555555555556, \"#d8576b\"], [0.6666666666666666, \"#ed7953\"], [0.7777777777777778, \"#fb9f3a\"], [0.8888888888888888, \"#fdca26\"], [1.0, \"#f0f921\"]], \"type\": \"histogram2d\"}], \"histogram2dcontour\": [{\"colorbar\": {\"outlinewidth\": 0, \"ticks\": \"\"}, \"colorscale\": [[0.0, \"#0d0887\"], [0.1111111111111111, \"#46039f\"], [0.2222222222222222, \"#7201a8\"], [0.3333333333333333, \"#9c179e\"], [0.4444444444444444, \"#bd3786\"], [0.5555555555555556, \"#d8576b\"], [0.6666666666666666, \"#ed7953\"], [0.7777777777777778, \"#fb9f3a\"], [0.8888888888888888, \"#fdca26\"], [1.0, \"#f0f921\"]], \"type\": \"histogram2dcontour\"}], \"mesh3d\": [{\"colorbar\": {\"outlinewidth\": 0, \"ticks\": \"\"}, \"type\": \"mesh3d\"}], \"parcoords\": [{\"line\": {\"colorbar\": {\"outlinewidth\": 0, \"ticks\": \"\"}}, \"type\": \"parcoords\"}], \"pie\": [{\"automargin\": true, \"type\": \"pie\"}], \"scatter\": [{\"marker\": {\"colorbar\": {\"outlinewidth\": 0, \"ticks\": \"\"}}, \"type\": \"scatter\"}], \"scatter3d\": [{\"line\": {\"colorbar\": {\"outlinewidth\": 0, \"ticks\": \"\"}}, \"marker\": {\"colorbar\": {\"outlinewidth\": 0, \"ticks\": \"\"}}, \"type\": \"scatter3d\"}], \"scattercarpet\": [{\"marker\": {\"colorbar\": {\"outlinewidth\": 0, \"ticks\": \"\"}}, \"type\": \"scattercarpet\"}], \"scattergeo\": [{\"marker\": {\"colorbar\": {\"outlinewidth\": 0, \"ticks\": \"\"}}, \"type\": \"scattergeo\"}], \"scattergl\": [{\"marker\": {\"colorbar\": {\"outlinewidth\": 0, \"ticks\": \"\"}}, \"type\": \"scattergl\"}], \"scattermapbox\": [{\"marker\": {\"colorbar\": {\"outlinewidth\": 0, \"ticks\": \"\"}}, \"type\": \"scattermapbox\"}], \"scatterpolar\": [{\"marker\": {\"colorbar\": {\"outlinewidth\": 0, \"ticks\": \"\"}}, \"type\": \"scatterpolar\"}], \"scatterpolargl\": [{\"marker\": {\"colorbar\": {\"outlinewidth\": 0, \"ticks\": \"\"}}, \"type\": \"scatterpolargl\"}], \"scatterternary\": [{\"marker\": {\"colorbar\": {\"outlinewidth\": 0, \"ticks\": \"\"}}, \"type\": \"scatterternary\"}], \"surface\": [{\"colorbar\": {\"outlinewidth\": 0, \"ticks\": \"\"}, \"colorscale\": [[0.0, \"#0d0887\"], [0.1111111111111111, \"#46039f\"], [0.2222222222222222, \"#7201a8\"], [0.3333333333333333, \"#9c179e\"], [0.4444444444444444, \"#bd3786\"], [0.5555555555555556, \"#d8576b\"], [0.6666666666666666, \"#ed7953\"], [0.7777777777777778, \"#fb9f3a\"], [0.8888888888888888, \"#fdca26\"], [1.0, \"#f0f921\"]], \"type\": \"surface\"}], \"table\": [{\"cells\": {\"fill\": {\"color\": \"#EBF0F8\"}, \"line\": {\"color\": \"white\"}}, \"header\": {\"fill\": {\"color\": \"#C8D4E3\"}, \"line\": {\"color\": \"white\"}}, \"type\": \"table\"}]}, \"layout\": {\"annotationdefaults\": {\"arrowcolor\": \"#2a3f5f\", \"arrowhead\": 0, \"arrowwidth\": 1}, \"coloraxis\": {\"colorbar\": {\"outlinewidth\": 0, \"ticks\": \"\"}}, \"colorscale\": {\"diverging\": [[0, \"#8e0152\"], [0.1, \"#c51b7d\"], [0.2, \"#de77ae\"], [0.3, \"#f1b6da\"], [0.4, \"#fde0ef\"], [0.5, \"#f7f7f7\"], [0.6, \"#e6f5d0\"], [0.7, \"#b8e186\"], [0.8, \"#7fbc41\"], [0.9, \"#4d9221\"], [1, \"#276419\"]], \"sequential\": [[0.0, \"#0d0887\"], [0.1111111111111111, \"#46039f\"], [0.2222222222222222, \"#7201a8\"], [0.3333333333333333, \"#9c179e\"], [0.4444444444444444, \"#bd3786\"], [0.5555555555555556, \"#d8576b\"], [0.6666666666666666, \"#ed7953\"], [0.7777777777777778, \"#fb9f3a\"], [0.8888888888888888, \"#fdca26\"], [1.0, \"#f0f921\"]], \"sequentialminus\": [[0.0, \"#0d0887\"], [0.1111111111111111, \"#46039f\"], [0.2222222222222222, \"#7201a8\"], [0.3333333333333333, \"#9c179e\"], [0.4444444444444444, \"#bd3786\"], [0.5555555555555556, \"#d8576b\"], [0.6666666666666666, \"#ed7953\"], [0.7777777777777778, \"#fb9f3a\"], [0.8888888888888888, \"#fdca26\"], [1.0, \"#f0f921\"]]}, \"colorway\": [\"#636efa\", \"#EF553B\", \"#00cc96\", \"#ab63fa\", \"#FFA15A\", \"#19d3f3\", \"#FF6692\", \"#B6E880\", \"#FF97FF\", \"#FECB52\"], \"font\": {\"color\": \"#2a3f5f\"}, \"geo\": {\"bgcolor\": \"white\", \"lakecolor\": \"white\", \"landcolor\": \"#E5ECF6\", \"showlakes\": true, \"showland\": true, \"subunitcolor\": \"white\"}, \"hoverlabel\": {\"align\": \"left\"}, \"hovermode\": \"closest\", \"mapbox\": {\"style\": \"light\"}, \"paper_bgcolor\": \"white\", \"plot_bgcolor\": \"#E5ECF6\", \"polar\": {\"angularaxis\": {\"gridcolor\": \"white\", \"linecolor\": \"white\", \"ticks\": \"\"}, \"bgcolor\": \"#E5ECF6\", \"radialaxis\": {\"gridcolor\": \"white\", \"linecolor\": \"white\", \"ticks\": \"\"}}, \"scene\": {\"xaxis\": {\"backgroundcolor\": \"#E5ECF6\", \"gridcolor\": \"white\", \"gridwidth\": 2, \"linecolor\": \"white\", \"showbackground\": true, \"ticks\": \"\", \"zerolinecolor\": \"white\"}, \"yaxis\": {\"backgroundcolor\": \"#E5ECF6\", \"gridcolor\": \"white\", \"gridwidth\": 2, \"linecolor\": \"white\", \"showbackground\": true, \"ticks\": \"\", \"zerolinecolor\": \"white\"}, \"zaxis\": {\"backgroundcolor\": \"#E5ECF6\", \"gridcolor\": \"white\", \"gridwidth\": 2, \"linecolor\": \"white\", \"showbackground\": true, \"ticks\": \"\", \"zerolinecolor\": \"white\"}}, \"shapedefaults\": {\"line\": {\"color\": \"#2a3f5f\"}}, \"ternary\": {\"aaxis\": {\"gridcolor\": \"white\", \"linecolor\": \"white\", \"ticks\": \"\"}, \"baxis\": {\"gridcolor\": \"white\", \"linecolor\": \"white\", \"ticks\": \"\"}, \"bgcolor\": \"#E5ECF6\", \"caxis\": {\"gridcolor\": \"white\", \"linecolor\": \"white\", \"ticks\": \"\"}}, \"title\": {\"x\": 0.05}, \"xaxis\": {\"automargin\": true, \"gridcolor\": \"white\", \"linecolor\": \"white\", \"ticks\": \"\", \"title\": {\"standoff\": 15}, \"zerolinecolor\": \"white\", \"zerolinewidth\": 2}, \"yaxis\": {\"automargin\": true, \"gridcolor\": \"white\", \"linecolor\": \"white\", \"ticks\": \"\", \"title\": {\"standoff\": 15}, \"zerolinecolor\": \"white\", \"zerolinewidth\": 2}}}, \"xaxis\": {\"gridcolor\": \"lightgray\", \"linecolor\": \"gray\", \"mirror\": true, \"showgrid\": false, \"showline\": true, \"tickangle\": -45, \"tickfont\": {\"size\": 10}, \"ticks\": \"inside\", \"title\": {\"font\": {\"size\": 14}, \"text\": \"Residue\"}}, \"yaxis\": {\"gridcolor\": \"lightgray\", \"linecolor\": \"grey\", \"mirror\": true, \"showgrid\": false, \"showline\": true, \"tickfont\": {\"size\": 10}, \"title\": {\"font\": {\"size\": 14}, \"text\": \"Counts\"}}},\n",
       "                        {\"responsive\": true}\n",
       "                    ).then(function(){\n",
       "                            \n",
       "var gd = document.getElementById('24888618-943b-4cd0-a5a5-11618d8ddb23');\n",
       "var x = new MutationObserver(function (mutations, observer) {{\n",
       "        var display = window.getComputedStyle(gd).display;\n",
       "        if (!display || display === 'none') {{\n",
       "            console.log([gd, 'removed!']);\n",
       "            Plotly.purge(gd);\n",
       "            observer.disconnect();\n",
       "        }}\n",
       "}});\n",
       "\n",
       "// Listen for the removal of the full notebook cells\n",
       "var notebookContainer = gd.closest('#notebook-container');\n",
       "if (notebookContainer) {{\n",
       "    x.observe(notebookContainer, {childList: true});\n",
       "}}\n",
       "\n",
       "// Listen for the clearing of the current output cell\n",
       "var outputEl = gd.closest('.output');\n",
       "if (outputEl) {{\n",
       "    x.observe(outputEl, {childList: true});\n",
       "}}\n",
       "\n",
       "                        })\n",
       "                };\n",
       "                });\n",
       "            </script>\n",
       "        </div>"
      ]
     },
     "metadata": {},
     "output_type": "display_data"
    }
   ],
   "source": [
    "fig = go.Figure()\n",
    "\n",
    "for ligand in ['1a','23a', '23g','23h','1g','C12','LBA']:\n",
    "    fig.add_trace(go.Scatter(x=counts_by_res['wt'].index, y=counts_by_res['wt'][ligand],\n",
    "                             mode='lines', name=ligand))\n",
    "title_font = {\"size\":14}\n",
    "fig.update_layout(yaxis=dict(title_text=\"Counts\", titlefont=title_font, \n",
    "                             showline=True, showgrid=False, linecolor='grey', gridcolor='lightgray',\n",
    "                             mirror=True),\n",
    "                  xaxis=dict(title_text=\"Residue\", titlefont=title_font, tickangle=-45,\n",
    "                            showline=True, showgrid=False, linecolor='gray', gridcolor='lightgray',\n",
    "                            mirror=True),\n",
    "                  plot_bgcolor='white',\n",
    "                  annotations=[dict(x='Trp60', y=2300,\n",
    "                                    text=\"Trp60\",\n",
    "                                    showarrow=True,\n",
    "                                    arrowhead=2,\n",
    "                                    ax=0,\n",
    "                                    ay=-80,\n",
    "                                    font=dict(color='red')),\n",
    "                               dict(x='Tyr56', y=2500,\n",
    "                                    text=\"Tyr56\",\n",
    "                                    showarrow=True,\n",
    "                                    arrowhead=2,\n",
    "                                    ax=-10,\n",
    "                                    ay=-40,\n",
    "                                    font=dict(color='red')),\n",
    "                               dict(x='Asp73', y=1500,\n",
    "                                    text=\"Asp73\",\n",
    "                                    showarrow=True,\n",
    "                                    arrowhead=2,\n",
    "                                    ax=0,\n",
    "                                    ay=-40,\n",
    "                                    font=dict(color='red')),\n",
    "                               dict(x='Ser129', y=2400,\n",
    "                                    text=\"Ser129\",\n",
    "                                    showarrow=True,\n",
    "                                    arrowhead=2,\n",
    "                                    ax=0,\n",
    "                                    ay=-40,\n",
    "                                    font=dict(color='red')),\n",
    "                               dict(x='Tyr47', y=4800,\n",
    "                                    text=\"Tyr47\",\n",
    "                                    showarrow=True,\n",
    "                                    arrowhead=2,\n",
    "                                    ax=0,\n",
    "                                    ay=-40),\n",
    "                               dict(x='Ile52', y=4800,\n",
    "                                    text=\"Ile52\",\n",
    "                                    showarrow=True,\n",
    "                                    arrowhead=2,\n",
    "                                    ax=0,\n",
    "                                    ay=-40),\n",
    "                               dict(x='Trp88', y=3150,\n",
    "                                    text=\"Trp88\",\n",
    "                                    showarrow=True,\n",
    "                                    arrowhead=2,\n",
    "                                    ax=0,\n",
    "                                    ay=-40),\n",
    "                               dict(x='Ala70', y=1300,\n",
    "                                    text=\"Ala70\",\n",
    "                                    showarrow=True,\n",
    "                                    arrowhead=2,\n",
    "                                    ax=0,\n",
    "                                    ay=-40),\n",
    "                               dict(x='Tyr64', y=5900,\n",
    "                                    text=\"Tyr64\",\n",
    "                                    showarrow=True,\n",
    "                                    arrowhead=2,\n",
    "                                    ax=60,\n",
    "                                    ay=-10),\n",
    "                               dict(x='Val76', y=2750,\n",
    "                                    text=\"Val76\",\n",
    "                                    showarrow=True,\n",
    "                                    arrowhead=2,\n",
    "                                    ax=0,\n",
    "                                    ay=-40)\n",
    "                              ]\n",
    "                 )\n",
    "fig.update_annotations(dict(font_size=8))\n",
    "fig.update_xaxes(ticks=\"inside\",tickfont=dict(size=10))\n",
    "fig.update_yaxes(tickfont=dict(size=10))\n",
    "fig.update_layout(legend=dict(x=0.85, y=1.0,font_size=10))\n",
    "fig.update_layout(margin=dict(l=80, r=30, t=30, b=70))\n",
    "fig.show()\n",
    "#fig.write_image(\"./counts.jpg\",width=600, height=450, scale=3)"
   ]
  },
  {
   "cell_type": "markdown",
   "metadata": {},
   "source": [
    "## Plotting with Seaborn"
   ]
  },
  {
   "cell_type": "code",
   "execution_count": 43,
   "metadata": {},
   "outputs": [],
   "source": [
    "_ = counts_by_res['wt'].copy()\n",
    "_[\"Residue\"] = _.index"
   ]
  },
  {
   "cell_type": "code",
   "execution_count": 44,
   "metadata": {},
   "outputs": [],
   "source": [
    "# The order of the residues in this plot is worng... Why??"
   ]
  },
  {
   "cell_type": "code",
   "execution_count": 45,
   "metadata": {
    "scrolled": true
   },
   "outputs": [
    {
     "data": {
      "image/png": "[encoded data removed]",
      "text/plain": [
       "<Figure size 1440x576 with 1 Axes>"
      ]
     },
     "metadata": {
      "needs_background": "light"
     },
     "output_type": "display_data"
    }
   ],
   "source": [
    "# For publication, usinig Seaborn\n",
    "plot_style = {'xtick.bottom': True,\n",
    "              'ytick.left': True,\n",
    "              'xtick.direction': 'in',\n",
    "              'ytick.direction': 'in', 'label':'big' }\n",
    "\n",
    "plt.figure(figsize=(20,8))\n",
    "with sns.axes_style(\"white\", plot_style):\n",
    "    #g = sns.scatterplot(data=pd.melt(_, id_vars='Residue', \n",
    "    g = sns.lineplot(data=pd.melt(_, id_vars='Residue', \n",
    "                                  value_vars=['1a','23a','23g','23h','1g','C12'], \n",
    "                                  var_name=\"Ligand\", \n",
    "                                  value_name=\"Counts\"),\n",
    "                     x=\"Residue\",\n",
    "                     y=\"Counts\", hue=\"Ligand\",\n",
    "                     palette=\"bright\", \n",
    "                     linewidth=3)\n",
    "    g.set_xlabel(\"Residue\",fontsize=20)\n",
    "    g.set_ylabel(\"Counts\",fontsize=20)\n",
    "    g.tick_params(labelsize=15)\n",
    "\n",
    "plt.xticks(rotation=45)\n",
    "plt.xlim(0,len(_.index)-1)\n",
    "plt.show()\n",
    "#g.savefig(\"best_all.svg\")\n"
   ]
  },
  {
   "cell_type": "code",
   "execution_count": 46,
   "metadata": {},
   "outputs": [
    {
     "data": {
      "text/plain": [
       "(0.0, 52.0, -294.85, 6191.85)"
      ]
     },
     "execution_count": 46,
     "metadata": {},
     "output_type": "execute_result"
    }
   ],
   "source": [
    "g.axis()"
   ]
  },
  {
   "cell_type": "code",
   "execution_count": null,
   "metadata": {},
   "outputs": [],
   "source": []
  }
 ],
 "metadata": {
  "kernelspec": {
   "display_name": "Python 3",
   "language": "python",
   "name": "python3"
  },
  "language_info": {
   "codemirror_mode": {
    "name": "ipython",
    "version": 3
   },
   "file_extension": ".py",
   "mimetype": "text/x-python",
   "name": "python",
   "nbconvert_exporter": "python",
   "pygments_lexer": "ipython3",
   "version": "3.7.5"
  },
  "toc": {
   "base_numbering": 1,
   "nav_menu": {},
   "number_sections": true,
   "sideBar": true,
   "skip_h1_title": false,
   "title_cell": "Table of Contents",
   "title_sidebar": "Contents",
   "toc_cell": false,
   "toc_position": {
    "height": "calc(100% - 180px)",
    "left": "10px",
    "top": "150px",
    "width": "384px"
   },
   "toc_section_display": true,
   "toc_window_display": true
  },
  "varInspector": {
   "cols": {
    "lenName": 16,
    "lenType": 16,
    "lenVar": 40
   },
   "kernels_config": {
    "python": {
     "delete_cmd_postfix": "",
     "delete_cmd_prefix": "del ",
     "library": "var_list.py",
     "varRefreshCmd": "print(var_dic_list())"
    },
    "r": {
     "delete_cmd_postfix": ") ",
     "delete_cmd_prefix": "rm(",
     "library": "var_list.r",
     "varRefreshCmd": "cat(var_dic_list()) "
    }
   },
   "types_to_exclude": [
    "module",
    "function",
    "builtin_function_or_method",
    "instance",
    "_Feature"
   ],
   "window_display": false
  }
 },
 "nbformat": 4,
 "nbformat_minor": 4
}
